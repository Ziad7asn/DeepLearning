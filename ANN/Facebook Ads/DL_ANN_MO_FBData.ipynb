{
  "nbformat": 4,
  "nbformat_minor": 0,
  "metadata": {
    "colab": {
      "provenance": []
    },
    "kernelspec": {
      "name": "python3",
      "display_name": "Python 3"
    },
    "language_info": {
      "name": "python"
    }
  },
  "cells": [
    {
      "cell_type": "code",
      "execution_count": null,
      "metadata": {
        "id": "IU6hP3DxqBJr"
      },
      "outputs": [],
      "source": [
        "import pandas as pd\n",
        "import numpy as np\n",
        "import matplotlib.pyplot as plt\n",
        "import seaborn as sns"
      ]
    },
    {
      "cell_type": "code",
      "source": [
        "data = pd.read_csv('/content/facebook_ads.csv',encoding='ISO-8859-1')"
      ],
      "metadata": {
        "id": "PgfnzyF8q_P0"
      },
      "execution_count": null,
      "outputs": []
    },
    {
      "cell_type": "code",
      "source": [
        "data.head()"
      ],
      "metadata": {
        "colab": {
          "base_uri": "https://localhost:8080/",
          "height": 391
        },
        "id": "Gmy9ev09rWyD",
        "outputId": "4eb4947f-ed3a-4e7b-e6c7-a2be80eb4777"
      },
      "execution_count": null,
      "outputs": [
        {
          "output_type": "execute_result",
          "data": {
            "text/plain": [
              "             Names                                             emails  \\\n",
              "0    Martina Avila  cubilia.Curae.Phasellus@quisaccumsanconvallis.edu   \n",
              "1    Harlan Barnes                                eu.dolor@diam.co.uk   \n",
              "2  Naomi Rodriquez  vulputate.mauris.sagittis@ametconsectetueradip...   \n",
              "3  Jade Cunningham                            malesuada@dignissim.com   \n",
              "4     Cedric Leach     felis.ullamcorper.viverra@egetmollislectus.net   \n",
              "\n",
              "        Country  Time Spent on Site       Salary  Clicked  \n",
              "0      Bulgaria           25.649648  55330.06006        0  \n",
              "1        Belize           32.456107  79049.07674        1  \n",
              "2       Algeria           20.945978  41098.60826        0  \n",
              "3  Cook Islands           54.039325  37143.35536        1  \n",
              "4        Brazil           34.249729  37355.11276        0  "
            ],
            "text/html": [
              "\n",
              "\n",
              "  <div id=\"df-a122cf26-dcb4-467f-b8d1-d47738113c9a\">\n",
              "    <div class=\"colab-df-container\">\n",
              "      <div>\n",
              "<style scoped>\n",
              "    .dataframe tbody tr th:only-of-type {\n",
              "        vertical-align: middle;\n",
              "    }\n",
              "\n",
              "    .dataframe tbody tr th {\n",
              "        vertical-align: top;\n",
              "    }\n",
              "\n",
              "    .dataframe thead th {\n",
              "        text-align: right;\n",
              "    }\n",
              "</style>\n",
              "<table border=\"1\" class=\"dataframe\">\n",
              "  <thead>\n",
              "    <tr style=\"text-align: right;\">\n",
              "      <th></th>\n",
              "      <th>Names</th>\n",
              "      <th>emails</th>\n",
              "      <th>Country</th>\n",
              "      <th>Time Spent on Site</th>\n",
              "      <th>Salary</th>\n",
              "      <th>Clicked</th>\n",
              "    </tr>\n",
              "  </thead>\n",
              "  <tbody>\n",
              "    <tr>\n",
              "      <th>0</th>\n",
              "      <td>Martina Avila</td>\n",
              "      <td>cubilia.Curae.Phasellus@quisaccumsanconvallis.edu</td>\n",
              "      <td>Bulgaria</td>\n",
              "      <td>25.649648</td>\n",
              "      <td>55330.06006</td>\n",
              "      <td>0</td>\n",
              "    </tr>\n",
              "    <tr>\n",
              "      <th>1</th>\n",
              "      <td>Harlan Barnes</td>\n",
              "      <td>eu.dolor@diam.co.uk</td>\n",
              "      <td>Belize</td>\n",
              "      <td>32.456107</td>\n",
              "      <td>79049.07674</td>\n",
              "      <td>1</td>\n",
              "    </tr>\n",
              "    <tr>\n",
              "      <th>2</th>\n",
              "      <td>Naomi Rodriquez</td>\n",
              "      <td>vulputate.mauris.sagittis@ametconsectetueradip...</td>\n",
              "      <td>Algeria</td>\n",
              "      <td>20.945978</td>\n",
              "      <td>41098.60826</td>\n",
              "      <td>0</td>\n",
              "    </tr>\n",
              "    <tr>\n",
              "      <th>3</th>\n",
              "      <td>Jade Cunningham</td>\n",
              "      <td>malesuada@dignissim.com</td>\n",
              "      <td>Cook Islands</td>\n",
              "      <td>54.039325</td>\n",
              "      <td>37143.35536</td>\n",
              "      <td>1</td>\n",
              "    </tr>\n",
              "    <tr>\n",
              "      <th>4</th>\n",
              "      <td>Cedric Leach</td>\n",
              "      <td>felis.ullamcorper.viverra@egetmollislectus.net</td>\n",
              "      <td>Brazil</td>\n",
              "      <td>34.249729</td>\n",
              "      <td>37355.11276</td>\n",
              "      <td>0</td>\n",
              "    </tr>\n",
              "  </tbody>\n",
              "</table>\n",
              "</div>\n",
              "      <button class=\"colab-df-convert\" onclick=\"convertToInteractive('df-a122cf26-dcb4-467f-b8d1-d47738113c9a')\"\n",
              "              title=\"Convert this dataframe to an interactive table.\"\n",
              "              style=\"display:none;\">\n",
              "\n",
              "  <svg xmlns=\"http://www.w3.org/2000/svg\" height=\"24px\"viewBox=\"0 0 24 24\"\n",
              "       width=\"24px\">\n",
              "    <path d=\"M0 0h24v24H0V0z\" fill=\"none\"/>\n",
              "    <path d=\"M18.56 5.44l.94 2.06.94-2.06 2.06-.94-2.06-.94-.94-2.06-.94 2.06-2.06.94zm-11 1L8.5 8.5l.94-2.06 2.06-.94-2.06-.94L8.5 2.5l-.94 2.06-2.06.94zm10 10l.94 2.06.94-2.06 2.06-.94-2.06-.94-.94-2.06-.94 2.06-2.06.94z\"/><path d=\"M17.41 7.96l-1.37-1.37c-.4-.4-.92-.59-1.43-.59-.52 0-1.04.2-1.43.59L10.3 9.45l-7.72 7.72c-.78.78-.78 2.05 0 2.83L4 21.41c.39.39.9.59 1.41.59.51 0 1.02-.2 1.41-.59l7.78-7.78 2.81-2.81c.8-.78.8-2.07 0-2.86zM5.41 20L4 18.59l7.72-7.72 1.47 1.35L5.41 20z\"/>\n",
              "  </svg>\n",
              "      </button>\n",
              "\n",
              "\n",
              "\n",
              "    <div id=\"df-c5cc6402-e106-4e97-ba7d-90040b5b0d53\">\n",
              "      <button class=\"colab-df-quickchart\" onclick=\"quickchart('df-c5cc6402-e106-4e97-ba7d-90040b5b0d53')\"\n",
              "              title=\"Suggest charts.\"\n",
              "              style=\"display:none;\">\n",
              "\n",
              "<svg xmlns=\"http://www.w3.org/2000/svg\" height=\"24px\"viewBox=\"0 0 24 24\"\n",
              "     width=\"24px\">\n",
              "    <g>\n",
              "        <path d=\"M19 3H5c-1.1 0-2 .9-2 2v14c0 1.1.9 2 2 2h14c1.1 0 2-.9 2-2V5c0-1.1-.9-2-2-2zM9 17H7v-7h2v7zm4 0h-2V7h2v10zm4 0h-2v-4h2v4z\"/>\n",
              "    </g>\n",
              "</svg>\n",
              "      </button>\n",
              "    </div>\n",
              "\n",
              "<style>\n",
              "  .colab-df-quickchart {\n",
              "    background-color: #E8F0FE;\n",
              "    border: none;\n",
              "    border-radius: 50%;\n",
              "    cursor: pointer;\n",
              "    display: none;\n",
              "    fill: #1967D2;\n",
              "    height: 32px;\n",
              "    padding: 0 0 0 0;\n",
              "    width: 32px;\n",
              "  }\n",
              "\n",
              "  .colab-df-quickchart:hover {\n",
              "    background-color: #E2EBFA;\n",
              "    box-shadow: 0px 1px 2px rgba(60, 64, 67, 0.3), 0px 1px 3px 1px rgba(60, 64, 67, 0.15);\n",
              "    fill: #174EA6;\n",
              "  }\n",
              "\n",
              "  [theme=dark] .colab-df-quickchart {\n",
              "    background-color: #3B4455;\n",
              "    fill: #D2E3FC;\n",
              "  }\n",
              "\n",
              "  [theme=dark] .colab-df-quickchart:hover {\n",
              "    background-color: #434B5C;\n",
              "    box-shadow: 0px 1px 3px 1px rgba(0, 0, 0, 0.15);\n",
              "    filter: drop-shadow(0px 1px 2px rgba(0, 0, 0, 0.3));\n",
              "    fill: #FFFFFF;\n",
              "  }\n",
              "</style>\n",
              "\n",
              "    <script>\n",
              "      async function quickchart(key) {\n",
              "        const containerElement = document.querySelector('#' + key);\n",
              "        const charts = await google.colab.kernel.invokeFunction(\n",
              "            'suggestCharts', [key], {});\n",
              "      }\n",
              "    </script>\n",
              "\n",
              "      <script>\n",
              "\n",
              "function displayQuickchartButton(domScope) {\n",
              "  let quickchartButtonEl =\n",
              "    domScope.querySelector('#df-c5cc6402-e106-4e97-ba7d-90040b5b0d53 button.colab-df-quickchart');\n",
              "  quickchartButtonEl.style.display =\n",
              "    google.colab.kernel.accessAllowed ? 'block' : 'none';\n",
              "}\n",
              "\n",
              "        displayQuickchartButton(document);\n",
              "      </script>\n",
              "      <style>\n",
              "    .colab-df-container {\n",
              "      display:flex;\n",
              "      flex-wrap:wrap;\n",
              "      gap: 12px;\n",
              "    }\n",
              "\n",
              "    .colab-df-convert {\n",
              "      background-color: #E8F0FE;\n",
              "      border: none;\n",
              "      border-radius: 50%;\n",
              "      cursor: pointer;\n",
              "      display: none;\n",
              "      fill: #1967D2;\n",
              "      height: 32px;\n",
              "      padding: 0 0 0 0;\n",
              "      width: 32px;\n",
              "    }\n",
              "\n",
              "    .colab-df-convert:hover {\n",
              "      background-color: #E2EBFA;\n",
              "      box-shadow: 0px 1px 2px rgba(60, 64, 67, 0.3), 0px 1px 3px 1px rgba(60, 64, 67, 0.15);\n",
              "      fill: #174EA6;\n",
              "    }\n",
              "\n",
              "    [theme=dark] .colab-df-convert {\n",
              "      background-color: #3B4455;\n",
              "      fill: #D2E3FC;\n",
              "    }\n",
              "\n",
              "    [theme=dark] .colab-df-convert:hover {\n",
              "      background-color: #434B5C;\n",
              "      box-shadow: 0px 1px 3px 1px rgba(0, 0, 0, 0.15);\n",
              "      filter: drop-shadow(0px 1px 2px rgba(0, 0, 0, 0.3));\n",
              "      fill: #FFFFFF;\n",
              "    }\n",
              "  </style>\n",
              "\n",
              "      <script>\n",
              "        const buttonEl =\n",
              "          document.querySelector('#df-a122cf26-dcb4-467f-b8d1-d47738113c9a button.colab-df-convert');\n",
              "        buttonEl.style.display =\n",
              "          google.colab.kernel.accessAllowed ? 'block' : 'none';\n",
              "\n",
              "        async function convertToInteractive(key) {\n",
              "          const element = document.querySelector('#df-a122cf26-dcb4-467f-b8d1-d47738113c9a');\n",
              "          const dataTable =\n",
              "            await google.colab.kernel.invokeFunction('convertToInteractive',\n",
              "                                                     [key], {});\n",
              "          if (!dataTable) return;\n",
              "\n",
              "          const docLinkHtml = 'Like what you see? Visit the ' +\n",
              "            '<a target=\"_blank\" href=https://colab.research.google.com/notebooks/data_table.ipynb>data table notebook</a>'\n",
              "            + ' to learn more about interactive tables.';\n",
              "          element.innerHTML = '';\n",
              "          dataTable['output_type'] = 'display_data';\n",
              "          await google.colab.output.renderOutput(dataTable, element);\n",
              "          const docLink = document.createElement('div');\n",
              "          docLink.innerHTML = docLinkHtml;\n",
              "          element.appendChild(docLink);\n",
              "        }\n",
              "      </script>\n",
              "    </div>\n",
              "  </div>\n"
            ]
          },
          "metadata": {},
          "execution_count": 6
        }
      ]
    },
    {
      "cell_type": "code",
      "source": [
        "data.info()"
      ],
      "metadata": {
        "colab": {
          "base_uri": "https://localhost:8080/"
        },
        "id": "IdAsaVkirsbW",
        "outputId": "9b74fee9-7b14-4c5c-d3df-e7fec10dad73"
      },
      "execution_count": null,
      "outputs": [
        {
          "output_type": "stream",
          "name": "stdout",
          "text": [
            "<class 'pandas.core.frame.DataFrame'>\n",
            "RangeIndex: 499 entries, 0 to 498\n",
            "Data columns (total 6 columns):\n",
            " #   Column              Non-Null Count  Dtype  \n",
            "---  ------              --------------  -----  \n",
            " 0   Names               499 non-null    object \n",
            " 1   emails              499 non-null    object \n",
            " 2   Country             499 non-null    object \n",
            " 3   Time Spent on Site  499 non-null    float64\n",
            " 4   Salary              499 non-null    float64\n",
            " 5   Clicked             499 non-null    int64  \n",
            "dtypes: float64(2), int64(1), object(3)\n",
            "memory usage: 23.5+ KB\n"
          ]
        }
      ]
    },
    {
      "cell_type": "code",
      "source": [
        "data.isnull().sum()"
      ],
      "metadata": {
        "colab": {
          "base_uri": "https://localhost:8080/"
        },
        "id": "ut5E7lYiru8z",
        "outputId": "977e1730-2303-4a31-aa9f-41c2c8702bc4"
      },
      "execution_count": null,
      "outputs": [
        {
          "output_type": "execute_result",
          "data": {
            "text/plain": [
              "Names                 0\n",
              "emails                0\n",
              "Country               0\n",
              "Time Spent on Site    0\n",
              "Salary                0\n",
              "Clicked               0\n",
              "dtype: int64"
            ]
          },
          "metadata": {},
          "execution_count": 8
        }
      ]
    },
    {
      "cell_type": "code",
      "source": [
        "sns.pairplot(data)"
      ],
      "metadata": {
        "colab": {
          "base_uri": "https://localhost:8080/",
          "height": 680
        },
        "id": "pa98SesxsJmN",
        "outputId": "4b67b7fc-c51d-4cef-b72a-c87b9dd922f8"
      },
      "execution_count": null,
      "outputs": [
        {
          "output_type": "execute_result",
          "data": {
            "text/plain": [
              "<seaborn.axisgrid.PairGrid at 0x7c957db23760>"
            ]
          },
          "metadata": {},
          "execution_count": 10
        },
        {
          "output_type": "display_data",
          "data": {
            "text/plain": [
              "<Figure size 750x750 with 12 Axes>"
            ],
            "image/png": "[encoded data removed]"
          },
          "metadata": {}
        }
      ]
    },
    {
      "cell_type": "code",
      "source": [
        "data.keys()"
      ],
      "metadata": {
        "colab": {
          "base_uri": "https://localhost:8080/"
        },
        "id": "kgsQPoq3smjL",
        "outputId": "3a447938-1cb8-474b-86dc-8c4e0b136109"
      },
      "execution_count": null,
      "outputs": [
        {
          "output_type": "execute_result",
          "data": {
            "text/plain": [
              "Index(['Names', 'emails', 'Country', 'Time Spent on Site', 'Salary',\n",
              "       'Clicked'],\n",
              "      dtype='object')"
            ]
          },
          "metadata": {},
          "execution_count": 11
        }
      ]
    },
    {
      "cell_type": "code",
      "source": [
        "data=data.drop(['Names', 'emails',],axis=1)"
      ],
      "metadata": {
        "id": "Pu88oidMsUGR"
      },
      "execution_count": null,
      "outputs": []
    },
    {
      "cell_type": "code",
      "source": [
        "data.Country.value_counts()"
      ],
      "metadata": {
        "colab": {
          "base_uri": "https://localhost:8080/"
        },
        "id": "SyBl1p3rsr-2",
        "outputId": "d3d3b162-3022-4d9a-b651-e775dc5aba2e"
      },
      "execution_count": null,
      "outputs": [
        {
          "output_type": "execute_result",
          "data": {
            "text/plain": [
              "Israel                 6\n",
              "Mauritania             6\n",
              "Bolivia                6\n",
              "Greenland              5\n",
              "Saint Barthélemy       5\n",
              "                      ..\n",
              "El Salvador            1\n",
              "Denmark                1\n",
              "Oman                   1\n",
              "Trinidad and Tobago    1\n",
              "Malaysia               1\n",
              "Name: Country, Length: 210, dtype: int64"
            ]
          },
          "metadata": {},
          "execution_count": 14
        }
      ]
    },
    {
      "cell_type": "code",
      "source": [
        "counter=0\n",
        "for country in data.Country.unique():\n",
        "  data.Country.replace(country,counter,inplace=True)\n",
        "  counter+=1"
      ],
      "metadata": {
        "id": "Dgi8NSRBtBhE"
      },
      "execution_count": null,
      "outputs": []
    },
    {
      "cell_type": "code",
      "source": [],
      "metadata": {
        "id": "UCFvfmk6wRJi"
      },
      "execution_count": null,
      "outputs": []
    },
    {
      "cell_type": "code",
      "source": [
        "df = data.copy()\n",
        "df.head()"
      ],
      "metadata": {
        "colab": {
          "base_uri": "https://localhost:8080/",
          "height": 206
        },
        "id": "FG8k-rQJw3S6",
        "outputId": "95112c0e-e998-4216-fbf0-31fbec575e4e"
      },
      "execution_count": null,
      "outputs": [
        {
          "output_type": "execute_result",
          "data": {
            "text/plain": [
              "   Country  Time Spent on Site       Salary  Clicked\n",
              "0        0           25.649648  55330.06006        0\n",
              "1        1           32.456107  79049.07674        1\n",
              "2        2           20.945978  41098.60826        0\n",
              "3        3           54.039325  37143.35536        1\n",
              "4        4           34.249729  37355.11276        0"
            ],
            "text/html": [
              "\n",
              "\n",
              "  <div id=\"df-c54bc6f2-5842-4f19-b534-80aec84edc73\">\n",
              "    <div class=\"colab-df-container\">\n",
              "      <div>\n",
              "<style scoped>\n",
              "    .dataframe tbody tr th:only-of-type {\n",
              "        vertical-align: middle;\n",
              "    }\n",
              "\n",
              "    .dataframe tbody tr th {\n",
              "        vertical-align: top;\n",
              "    }\n",
              "\n",
              "    .dataframe thead th {\n",
              "        text-align: right;\n",
              "    }\n",
              "</style>\n",
              "<table border=\"1\" class=\"dataframe\">\n",
              "  <thead>\n",
              "    <tr style=\"text-align: right;\">\n",
              "      <th></th>\n",
              "      <th>Country</th>\n",
              "      <th>Time Spent on Site</th>\n",
              "      <th>Salary</th>\n",
              "      <th>Clicked</th>\n",
              "    </tr>\n",
              "  </thead>\n",
              "  <tbody>\n",
              "    <tr>\n",
              "      <th>0</th>\n",
              "      <td>0</td>\n",
              "      <td>25.649648</td>\n",
              "      <td>55330.06006</td>\n",
              "      <td>0</td>\n",
              "    </tr>\n",
              "    <tr>\n",
              "      <th>1</th>\n",
              "      <td>1</td>\n",
              "      <td>32.456107</td>\n",
              "      <td>79049.07674</td>\n",
              "      <td>1</td>\n",
              "    </tr>\n",
              "    <tr>\n",
              "      <th>2</th>\n",
              "      <td>2</td>\n",
              "      <td>20.945978</td>\n",
              "      <td>41098.60826</td>\n",
              "      <td>0</td>\n",
              "    </tr>\n",
              "    <tr>\n",
              "      <th>3</th>\n",
              "      <td>3</td>\n",
              "      <td>54.039325</td>\n",
              "      <td>37143.35536</td>\n",
              "      <td>1</td>\n",
              "    </tr>\n",
              "    <tr>\n",
              "      <th>4</th>\n",
              "      <td>4</td>\n",
              "      <td>34.249729</td>\n",
              "      <td>37355.11276</td>\n",
              "      <td>0</td>\n",
              "    </tr>\n",
              "  </tbody>\n",
              "</table>\n",
              "</div>\n",
              "      <button class=\"colab-df-convert\" onclick=\"convertToInteractive('df-c54bc6f2-5842-4f19-b534-80aec84edc73')\"\n",
              "              title=\"Convert this dataframe to an interactive table.\"\n",
              "              style=\"display:none;\">\n",
              "\n",
              "  <svg xmlns=\"http://www.w3.org/2000/svg\" height=\"24px\"viewBox=\"0 0 24 24\"\n",
              "       width=\"24px\">\n",
              "    <path d=\"M0 0h24v24H0V0z\" fill=\"none\"/>\n",
              "    <path d=\"M18.56 5.44l.94 2.06.94-2.06 2.06-.94-2.06-.94-.94-2.06-.94 2.06-2.06.94zm-11 1L8.5 8.5l.94-2.06 2.06-.94-2.06-.94L8.5 2.5l-.94 2.06-2.06.94zm10 10l.94 2.06.94-2.06 2.06-.94-2.06-.94-.94-2.06-.94 2.06-2.06.94z\"/><path d=\"M17.41 7.96l-1.37-1.37c-.4-.4-.92-.59-1.43-.59-.52 0-1.04.2-1.43.59L10.3 9.45l-7.72 7.72c-.78.78-.78 2.05 0 2.83L4 21.41c.39.39.9.59 1.41.59.51 0 1.02-.2 1.41-.59l7.78-7.78 2.81-2.81c.8-.78.8-2.07 0-2.86zM5.41 20L4 18.59l7.72-7.72 1.47 1.35L5.41 20z\"/>\n",
              "  </svg>\n",
              "      </button>\n",
              "\n",
              "\n",
              "\n",
              "    <div id=\"df-c37cbaf7-f437-4d19-a3d7-7013cc64a291\">\n",
              "      <button class=\"colab-df-quickchart\" onclick=\"quickchart('df-c37cbaf7-f437-4d19-a3d7-7013cc64a291')\"\n",
              "              title=\"Suggest charts.\"\n",
              "              style=\"display:none;\">\n",
              "\n",
              "<svg xmlns=\"http://www.w3.org/2000/svg\" height=\"24px\"viewBox=\"0 0 24 24\"\n",
              "     width=\"24px\">\n",
              "    <g>\n",
              "        <path d=\"M19 3H5c-1.1 0-2 .9-2 2v14c0 1.1.9 2 2 2h14c1.1 0 2-.9 2-2V5c0-1.1-.9-2-2-2zM9 17H7v-7h2v7zm4 0h-2V7h2v10zm4 0h-2v-4h2v4z\"/>\n",
              "    </g>\n",
              "</svg>\n",
              "      </button>\n",
              "    </div>\n",
              "\n",
              "<style>\n",
              "  .colab-df-quickchart {\n",
              "    background-color: #E8F0FE;\n",
              "    border: none;\n",
              "    border-radius: 50%;\n",
              "    cursor: pointer;\n",
              "    display: none;\n",
              "    fill: #1967D2;\n",
              "    height: 32px;\n",
              "    padding: 0 0 0 0;\n",
              "    width: 32px;\n",
              "  }\n",
              "\n",
              "  .colab-df-quickchart:hover {\n",
              "    background-color: #E2EBFA;\n",
              "    box-shadow: 0px 1px 2px rgba(60, 64, 67, 0.3), 0px 1px 3px 1px rgba(60, 64, 67, 0.15);\n",
              "    fill: #174EA6;\n",
              "  }\n",
              "\n",
              "  [theme=dark] .colab-df-quickchart {\n",
              "    background-color: #3B4455;\n",
              "    fill: #D2E3FC;\n",
              "  }\n",
              "\n",
              "  [theme=dark] .colab-df-quickchart:hover {\n",
              "    background-color: #434B5C;\n",
              "    box-shadow: 0px 1px 3px 1px rgba(0, 0, 0, 0.15);\n",
              "    filter: drop-shadow(0px 1px 2px rgba(0, 0, 0, 0.3));\n",
              "    fill: #FFFFFF;\n",
              "  }\n",
              "</style>\n",
              "\n",
              "    <script>\n",
              "      async function quickchart(key) {\n",
              "        const containerElement = document.querySelector('#' + key);\n",
              "        const charts = await google.colab.kernel.invokeFunction(\n",
              "            'suggestCharts', [key], {});\n",
              "      }\n",
              "    </script>\n",
              "\n",
              "      <script>\n",
              "\n",
              "function displayQuickchartButton(domScope) {\n",
              "  let quickchartButtonEl =\n",
              "    domScope.querySelector('#df-c37cbaf7-f437-4d19-a3d7-7013cc64a291 button.colab-df-quickchart');\n",
              "  quickchartButtonEl.style.display =\n",
              "    google.colab.kernel.accessAllowed ? 'block' : 'none';\n",
              "}\n",
              "\n",
              "        displayQuickchartButton(document);\n",
              "      </script>\n",
              "      <style>\n",
              "    .colab-df-container {\n",
              "      display:flex;\n",
              "      flex-wrap:wrap;\n",
              "      gap: 12px;\n",
              "    }\n",
              "\n",
              "    .colab-df-convert {\n",
              "      background-color: #E8F0FE;\n",
              "      border: none;\n",
              "      border-radius: 50%;\n",
              "      cursor: pointer;\n",
              "      display: none;\n",
              "      fill: #1967D2;\n",
              "      height: 32px;\n",
              "      padding: 0 0 0 0;\n",
              "      width: 32px;\n",
              "    }\n",
              "\n",
              "    .colab-df-convert:hover {\n",
              "      background-color: #E2EBFA;\n",
              "      box-shadow: 0px 1px 2px rgba(60, 64, 67, 0.3), 0px 1px 3px 1px rgba(60, 64, 67, 0.15);\n",
              "      fill: #174EA6;\n",
              "    }\n",
              "\n",
              "    [theme=dark] .colab-df-convert {\n",
              "      background-color: #3B4455;\n",
              "      fill: #D2E3FC;\n",
              "    }\n",
              "\n",
              "    [theme=dark] .colab-df-convert:hover {\n",
              "      background-color: #434B5C;\n",
              "      box-shadow: 0px 1px 3px 1px rgba(0, 0, 0, 0.15);\n",
              "      filter: drop-shadow(0px 1px 2px rgba(0, 0, 0, 0.3));\n",
              "      fill: #FFFFFF;\n",
              "    }\n",
              "  </style>\n",
              "\n",
              "      <script>\n",
              "        const buttonEl =\n",
              "          document.querySelector('#df-c54bc6f2-5842-4f19-b534-80aec84edc73 button.colab-df-convert');\n",
              "        buttonEl.style.display =\n",
              "          google.colab.kernel.accessAllowed ? 'block' : 'none';\n",
              "\n",
              "        async function convertToInteractive(key) {\n",
              "          const element = document.querySelector('#df-c54bc6f2-5842-4f19-b534-80aec84edc73');\n",
              "          const dataTable =\n",
              "            await google.colab.kernel.invokeFunction('convertToInteractive',\n",
              "                                                     [key], {});\n",
              "          if (!dataTable) return;\n",
              "\n",
              "          const docLinkHtml = 'Like what you see? Visit the ' +\n",
              "            '<a target=\"_blank\" href=https://colab.research.google.com/notebooks/data_table.ipynb>data table notebook</a>'\n",
              "            + ' to learn more about interactive tables.';\n",
              "          element.innerHTML = '';\n",
              "          dataTable['output_type'] = 'display_data';\n",
              "          await google.colab.output.renderOutput(dataTable, element);\n",
              "          const docLink = document.createElement('div');\n",
              "          docLink.innerHTML = docLinkHtml;\n",
              "          element.appendChild(docLink);\n",
              "        }\n",
              "      </script>\n",
              "    </div>\n",
              "  </div>\n"
            ]
          },
          "metadata": {},
          "execution_count": 185
        }
      ]
    },
    {
      "cell_type": "code",
      "source": [
        "from sklearn.preprocessing import MinMaxScaler"
      ],
      "metadata": {
        "id": "0-S0Us-pwTTI"
      },
      "execution_count": null,
      "outputs": []
    },
    {
      "cell_type": "code",
      "source": [
        "scaler = MinMaxScaler()\n",
        "df[['Time Spent on Site','Salary']] = scaler.fit_transform(df[['Time Spent on Site','Salary']])"
      ],
      "metadata": {
        "id": "EnIBWlp3wvss"
      },
      "execution_count": null,
      "outputs": []
    },
    {
      "cell_type": "code",
      "source": [
        "x= df.drop('Clicked',axis=1)\n",
        "y=df['Clicked']"
      ],
      "metadata": {
        "id": "RRG2u2cVw0w2"
      },
      "execution_count": null,
      "outputs": []
    },
    {
      "cell_type": "code",
      "source": [
        "from sklearn.model_selection import train_test_split\n",
        "x_train, x_test, y_train, y_test = train_test_split(x,y,test_size=0.2,random_state=5)"
      ],
      "metadata": {
        "id": "jUOm6DBjx_YP"
      },
      "execution_count": null,
      "outputs": []
    },
    {
      "cell_type": "code",
      "source": [
        "x_train.shape"
      ],
      "metadata": {
        "colab": {
          "base_uri": "https://localhost:8080/"
        },
        "id": "2a1qynyWyGNw",
        "outputId": "864e8d65-8a01-4269-fed6-08599aa8c059"
      },
      "execution_count": null,
      "outputs": [
        {
          "output_type": "execute_result",
          "data": {
            "text/plain": [
              "(399, 3)"
            ]
          },
          "metadata": {},
          "execution_count": 190
        }
      ]
    },
    {
      "cell_type": "code",
      "source": [
        "import tensorflow.keras\n",
        "from keras.models import Sequential\n",
        "from keras.layers import Dense"
      ],
      "metadata": {
        "id": "fG1QQeT-yBTh"
      },
      "execution_count": null,
      "outputs": []
    },
    {
      "cell_type": "markdown",
      "source": [],
      "metadata": {
        "id": "A7Qq-v1R2A4J"
      }
    },
    {
      "cell_type": "code",
      "source": [
        "ann = Sequential()"
      ],
      "metadata": {
        "id": "ezmEtliWyE2y"
      },
      "execution_count": null,
      "outputs": []
    },
    {
      "cell_type": "code",
      "source": [
        "ann.add(Dense(15,input_shape=(3,),activation='relu'))\n",
        "ann.add(Dense(25,activation='relu'))\n",
        "ann.add(Dense(1,activation='sigmoid'))"
      ],
      "metadata": {
        "id": "_hKMgPTEyMRz"
      },
      "execution_count": null,
      "outputs": []
    },
    {
      "cell_type": "code",
      "source": [
        "ann.summary()"
      ],
      "metadata": {
        "colab": {
          "base_uri": "https://localhost:8080/"
        },
        "id": "2nuwdOTzyQI3",
        "outputId": "cf237e5a-a798-4a66-c706-b558906f9393"
      },
      "execution_count": null,
      "outputs": [
        {
          "output_type": "stream",
          "name": "stdout",
          "text": [
            "Model: \"sequential_9\"\n",
            "_________________________________________________________________\n",
            " Layer (type)                Output Shape              Param #   \n",
            "=================================================================\n",
            " dense_59 (Dense)            (None, 15)                60        \n",
            "                                                                 \n",
            " dense_60 (Dense)            (None, 25)                400       \n",
            "                                                                 \n",
            " dense_61 (Dense)            (None, 1)                 26        \n",
            "                                                                 \n",
            "=================================================================\n",
            "Total params: 486\n",
            "Trainable params: 486\n",
            "Non-trainable params: 0\n",
            "_________________________________________________________________\n"
          ]
        }
      ]
    },
    {
      "cell_type": "code",
      "source": [
        "\n",
        "ann.compile(optimizer='adam',\n",
        "              loss='binary_crossentropy',\n",
        "              metrics=['accuracy'])"
      ],
      "metadata": {
        "id": "EoFKNPxIyRRN"
      },
      "execution_count": null,
      "outputs": []
    },
    {
      "cell_type": "code",
      "source": [
        "hist=ann.fit(x_train, y_train, epochs=200,validation_split=0.2)"
      ],
      "metadata": {
        "colab": {
          "base_uri": "https://localhost:8080/"
        },
        "id": "Wq1ULEIEyTJb",
        "outputId": "ffd3b9ae-7e35-481e-f9ab-51ff55a02883"
      },
      "execution_count": null,
      "outputs": [
        {
          "output_type": "stream",
          "name": "stdout",
          "text": [
            "Epoch 1/200\n",
            "10/10 [==============================] - 1s 24ms/step - loss: 5.9481 - accuracy: 0.4890 - val_loss: 3.1200 - val_accuracy: 0.6125\n",
            "Epoch 2/200\n",
            "10/10 [==============================] - 0s 6ms/step - loss: 2.4640 - accuracy: 0.4859 - val_loss: 0.6842 - val_accuracy: 0.6125\n",
            "Epoch 3/200\n",
            "10/10 [==============================] - 0s 7ms/step - loss: 1.0604 - accuracy: 0.4608 - val_loss: 1.6565 - val_accuracy: 0.3875\n",
            "Epoch 4/200\n",
            "10/10 [==============================] - 0s 8ms/step - loss: 0.9132 - accuracy: 0.5266 - val_loss: 0.6582 - val_accuracy: 0.6125\n",
            "Epoch 5/200\n",
            "10/10 [==============================] - 0s 6ms/step - loss: 0.7617 - accuracy: 0.4796 - val_loss: 0.6564 - val_accuracy: 0.6125\n",
            "Epoch 6/200\n",
            "10/10 [==============================] - 0s 6ms/step - loss: 0.7140 - accuracy: 0.4890 - val_loss: 0.7985 - val_accuracy: 0.3875\n",
            "Epoch 7/200\n",
            "10/10 [==============================] - 0s 8ms/step - loss: 0.7031 - accuracy: 0.5361 - val_loss: 0.6572 - val_accuracy: 0.6125\n",
            "Epoch 8/200\n",
            "10/10 [==============================] - 0s 6ms/step - loss: 0.6869 - accuracy: 0.5392 - val_loss: 0.7241 - val_accuracy: 0.4500\n",
            "Epoch 9/200\n",
            "10/10 [==============================] - 0s 7ms/step - loss: 0.6843 - accuracy: 0.6113 - val_loss: 0.6760 - val_accuracy: 0.9125\n",
            "Epoch 10/200\n",
            "10/10 [==============================] - 0s 6ms/step - loss: 0.6827 - accuracy: 0.6489 - val_loss: 0.6996 - val_accuracy: 0.5000\n",
            "Epoch 11/200\n",
            "10/10 [==============================] - 0s 8ms/step - loss: 0.6766 - accuracy: 0.5925 - val_loss: 0.6640 - val_accuracy: 0.6250\n",
            "Epoch 12/200\n",
            "10/10 [==============================] - 0s 6ms/step - loss: 0.6793 - accuracy: 0.6050 - val_loss: 0.6848 - val_accuracy: 0.5500\n",
            "Epoch 13/200\n",
            "10/10 [==============================] - 0s 9ms/step - loss: 0.6788 - accuracy: 0.5893 - val_loss: 0.6813 - val_accuracy: 0.6000\n",
            "Epoch 14/200\n",
            "10/10 [==============================] - 0s 7ms/step - loss: 0.6769 - accuracy: 0.6113 - val_loss: 0.6508 - val_accuracy: 0.6250\n",
            "Epoch 15/200\n",
            "10/10 [==============================] - 0s 8ms/step - loss: 0.6757 - accuracy: 0.6301 - val_loss: 0.7054 - val_accuracy: 0.5375\n",
            "Epoch 16/200\n",
            "10/10 [==============================] - 0s 9ms/step - loss: 0.6728 - accuracy: 0.6395 - val_loss: 0.6564 - val_accuracy: 0.6750\n",
            "Epoch 17/200\n",
            "10/10 [==============================] - 0s 9ms/step - loss: 0.6731 - accuracy: 0.6646 - val_loss: 0.7033 - val_accuracy: 0.5375\n",
            "Epoch 18/200\n",
            "10/10 [==============================] - 0s 8ms/step - loss: 0.6788 - accuracy: 0.5580 - val_loss: 0.6420 - val_accuracy: 0.6625\n",
            "Epoch 19/200\n",
            "10/10 [==============================] - 0s 7ms/step - loss: 0.6830 - accuracy: 0.5580 - val_loss: 0.6580 - val_accuracy: 0.8250\n",
            "Epoch 20/200\n",
            "10/10 [==============================] - 0s 7ms/step - loss: 0.6775 - accuracy: 0.5455 - val_loss: 0.7109 - val_accuracy: 0.5375\n",
            "Epoch 21/200\n",
            "10/10 [==============================] - 0s 8ms/step - loss: 0.6842 - accuracy: 0.5705 - val_loss: 0.6455 - val_accuracy: 0.6750\n",
            "Epoch 22/200\n",
            "10/10 [==============================] - 0s 8ms/step - loss: 0.6855 - accuracy: 0.5423 - val_loss: 0.7127 - val_accuracy: 0.5375\n",
            "Epoch 23/200\n",
            "10/10 [==============================] - 0s 7ms/step - loss: 0.6685 - accuracy: 0.6583 - val_loss: 0.6597 - val_accuracy: 0.6375\n",
            "Epoch 24/200\n",
            "10/10 [==============================] - 0s 6ms/step - loss: 0.6642 - accuracy: 0.6176 - val_loss: 0.6449 - val_accuracy: 0.8375\n",
            "Epoch 25/200\n",
            "10/10 [==============================] - 0s 8ms/step - loss: 0.6622 - accuracy: 0.6583 - val_loss: 0.6434 - val_accuracy: 0.6750\n",
            "Epoch 26/200\n",
            "10/10 [==============================] - 0s 8ms/step - loss: 0.6545 - accuracy: 0.5893 - val_loss: 0.6723 - val_accuracy: 0.5875\n",
            "Epoch 27/200\n",
            "10/10 [==============================] - 0s 8ms/step - loss: 0.6728 - accuracy: 0.5611 - val_loss: 0.7286 - val_accuracy: 0.5375\n",
            "Epoch 28/200\n",
            "10/10 [==============================] - 0s 8ms/step - loss: 0.6738 - accuracy: 0.5737 - val_loss: 0.5942 - val_accuracy: 0.6250\n",
            "Epoch 29/200\n",
            "10/10 [==============================] - 0s 7ms/step - loss: 0.6676 - accuracy: 0.5361 - val_loss: 0.6528 - val_accuracy: 0.6000\n",
            "Epoch 30/200\n",
            "10/10 [==============================] - 0s 8ms/step - loss: 0.6466 - accuracy: 0.6238 - val_loss: 0.6510 - val_accuracy: 0.6000\n",
            "Epoch 31/200\n",
            "10/10 [==============================] - 0s 8ms/step - loss: 0.6522 - accuracy: 0.6050 - val_loss: 0.6032 - val_accuracy: 0.6625\n",
            "Epoch 32/200\n",
            "10/10 [==============================] - 0s 6ms/step - loss: 0.6591 - accuracy: 0.5674 - val_loss: 0.7606 - val_accuracy: 0.5125\n",
            "Epoch 33/200\n",
            "10/10 [==============================] - 0s 9ms/step - loss: 0.6601 - accuracy: 0.6050 - val_loss: 0.5968 - val_accuracy: 0.6500\n",
            "Epoch 34/200\n",
            "10/10 [==============================] - 0s 8ms/step - loss: 0.6422 - accuracy: 0.5987 - val_loss: 0.6581 - val_accuracy: 0.6250\n",
            "Epoch 35/200\n",
            "10/10 [==============================] - 0s 8ms/step - loss: 0.6467 - accuracy: 0.5925 - val_loss: 0.6007 - val_accuracy: 0.7625\n",
            "Epoch 36/200\n",
            "10/10 [==============================] - 0s 6ms/step - loss: 0.6352 - accuracy: 0.6113 - val_loss: 0.6413 - val_accuracy: 0.6000\n",
            "Epoch 37/200\n",
            "10/10 [==============================] - 0s 9ms/step - loss: 0.6364 - accuracy: 0.6270 - val_loss: 0.6374 - val_accuracy: 0.6125\n",
            "Epoch 38/200\n",
            "10/10 [==============================] - 0s 7ms/step - loss: 0.6332 - accuracy: 0.6301 - val_loss: 0.6079 - val_accuracy: 0.7500\n",
            "Epoch 39/200\n",
            "10/10 [==============================] - 0s 7ms/step - loss: 0.6303 - accuracy: 0.6834 - val_loss: 0.6313 - val_accuracy: 0.6250\n",
            "Epoch 40/200\n",
            "10/10 [==============================] - 0s 6ms/step - loss: 0.6316 - accuracy: 0.6395 - val_loss: 0.5946 - val_accuracy: 0.8000\n",
            "Epoch 41/200\n",
            "10/10 [==============================] - 0s 6ms/step - loss: 0.6322 - accuracy: 0.6646 - val_loss: 0.5944 - val_accuracy: 0.8125\n",
            "Epoch 42/200\n",
            "10/10 [==============================] - 0s 6ms/step - loss: 0.6281 - accuracy: 0.6677 - val_loss: 0.6378 - val_accuracy: 0.6375\n",
            "Epoch 43/200\n",
            "10/10 [==============================] - 0s 9ms/step - loss: 0.6244 - accuracy: 0.6238 - val_loss: 0.5767 - val_accuracy: 0.7375\n",
            "Epoch 44/200\n",
            "10/10 [==============================] - 0s 8ms/step - loss: 0.6269 - accuracy: 0.6426 - val_loss: 0.5992 - val_accuracy: 0.7125\n",
            "Epoch 45/200\n",
            "10/10 [==============================] - 0s 6ms/step - loss: 0.6196 - accuracy: 0.6614 - val_loss: 0.5786 - val_accuracy: 0.8000\n",
            "Epoch 46/200\n",
            "10/10 [==============================] - 0s 9ms/step - loss: 0.6229 - accuracy: 0.6301 - val_loss: 0.7008 - val_accuracy: 0.5500\n",
            "Epoch 47/200\n",
            "10/10 [==============================] - 0s 8ms/step - loss: 0.6219 - accuracy: 0.6270 - val_loss: 0.5719 - val_accuracy: 0.8000\n",
            "Epoch 48/200\n",
            "10/10 [==============================] - 0s 10ms/step - loss: 0.6134 - accuracy: 0.6301 - val_loss: 0.5946 - val_accuracy: 0.7000\n",
            "Epoch 49/200\n",
            "10/10 [==============================] - 0s 7ms/step - loss: 0.6088 - accuracy: 0.6991 - val_loss: 0.6065 - val_accuracy: 0.6875\n",
            "Epoch 50/200\n",
            "10/10 [==============================] - 0s 7ms/step - loss: 0.6085 - accuracy: 0.6583 - val_loss: 0.5567 - val_accuracy: 0.7375\n",
            "Epoch 51/200\n",
            "10/10 [==============================] - 0s 8ms/step - loss: 0.6112 - accuracy: 0.6583 - val_loss: 0.6573 - val_accuracy: 0.6000\n",
            "Epoch 52/200\n",
            "10/10 [==============================] - 0s 7ms/step - loss: 0.6016 - accuracy: 0.6959 - val_loss: 0.5622 - val_accuracy: 0.8375\n",
            "Epoch 53/200\n",
            "10/10 [==============================] - 0s 7ms/step - loss: 0.6116 - accuracy: 0.6489 - val_loss: 0.5491 - val_accuracy: 0.7375\n",
            "Epoch 54/200\n",
            "10/10 [==============================] - 0s 6ms/step - loss: 0.6132 - accuracy: 0.6458 - val_loss: 0.6628 - val_accuracy: 0.6125\n",
            "Epoch 55/200\n",
            "10/10 [==============================] - 0s 8ms/step - loss: 0.6126 - accuracy: 0.6270 - val_loss: 0.5711 - val_accuracy: 0.7625\n",
            "Epoch 56/200\n",
            "10/10 [==============================] - 0s 8ms/step - loss: 0.5977 - accuracy: 0.6740 - val_loss: 0.5583 - val_accuracy: 0.8500\n",
            "Epoch 57/200\n",
            "10/10 [==============================] - 0s 8ms/step - loss: 0.5993 - accuracy: 0.6677 - val_loss: 0.5543 - val_accuracy: 0.8500\n",
            "Epoch 58/200\n",
            "10/10 [==============================] - 0s 10ms/step - loss: 0.6015 - accuracy: 0.6740 - val_loss: 0.5657 - val_accuracy: 0.7500\n",
            "Epoch 59/200\n",
            "10/10 [==============================] - 0s 7ms/step - loss: 0.6070 - accuracy: 0.6332 - val_loss: 0.5335 - val_accuracy: 0.7625\n",
            "Epoch 60/200\n",
            "10/10 [==============================] - 0s 7ms/step - loss: 0.5984 - accuracy: 0.6708 - val_loss: 0.5419 - val_accuracy: 0.8500\n",
            "Epoch 61/200\n",
            "10/10 [==============================] - 0s 7ms/step - loss: 0.5856 - accuracy: 0.7116 - val_loss: 0.5950 - val_accuracy: 0.6500\n",
            "Epoch 62/200\n",
            "10/10 [==============================] - 0s 7ms/step - loss: 0.5825 - accuracy: 0.6928 - val_loss: 0.5250 - val_accuracy: 0.7625\n",
            "Epoch 63/200\n",
            "10/10 [==============================] - 0s 8ms/step - loss: 0.5836 - accuracy: 0.6395 - val_loss: 0.6494 - val_accuracy: 0.6250\n",
            "Epoch 64/200\n",
            "10/10 [==============================] - 0s 12ms/step - loss: 0.5831 - accuracy: 0.6771 - val_loss: 0.5194 - val_accuracy: 0.7250\n",
            "Epoch 65/200\n",
            "10/10 [==============================] - 0s 10ms/step - loss: 0.5919 - accuracy: 0.6646 - val_loss: 0.5454 - val_accuracy: 0.8125\n",
            "Epoch 66/200\n",
            "10/10 [==============================] - 0s 14ms/step - loss: 0.5931 - accuracy: 0.6646 - val_loss: 0.6515 - val_accuracy: 0.6375\n",
            "Epoch 67/200\n",
            "10/10 [==============================] - 0s 9ms/step - loss: 0.5705 - accuracy: 0.6991 - val_loss: 0.5150 - val_accuracy: 0.8000\n",
            "Epoch 68/200\n",
            "10/10 [==============================] - 0s 12ms/step - loss: 0.5739 - accuracy: 0.7022 - val_loss: 0.5948 - val_accuracy: 0.6500\n",
            "Epoch 69/200\n",
            "10/10 [==============================] - 0s 12ms/step - loss: 0.5804 - accuracy: 0.6991 - val_loss: 0.6070 - val_accuracy: 0.6375\n",
            "Epoch 70/200\n",
            "10/10 [==============================] - 0s 11ms/step - loss: 0.5642 - accuracy: 0.7085 - val_loss: 0.5079 - val_accuracy: 0.8250\n",
            "Epoch 71/200\n",
            "10/10 [==============================] - 0s 14ms/step - loss: 0.5809 - accuracy: 0.6803 - val_loss: 0.6443 - val_accuracy: 0.6375\n",
            "Epoch 72/200\n",
            "10/10 [==============================] - 0s 11ms/step - loss: 0.5829 - accuracy: 0.6583 - val_loss: 0.6043 - val_accuracy: 0.6500\n",
            "Epoch 73/200\n",
            "10/10 [==============================] - 0s 9ms/step - loss: 0.5685 - accuracy: 0.7085 - val_loss: 0.5257 - val_accuracy: 0.8125\n",
            "Epoch 74/200\n",
            "10/10 [==============================] - 0s 15ms/step - loss: 0.5602 - accuracy: 0.7335 - val_loss: 0.5391 - val_accuracy: 0.7125\n",
            "Epoch 75/200\n",
            "10/10 [==============================] - 0s 11ms/step - loss: 0.5626 - accuracy: 0.7461 - val_loss: 0.5225 - val_accuracy: 0.8000\n",
            "Epoch 76/200\n",
            "10/10 [==============================] - 0s 12ms/step - loss: 0.5579 - accuracy: 0.7304 - val_loss: 0.6235 - val_accuracy: 0.6500\n",
            "Epoch 77/200\n",
            "10/10 [==============================] - 0s 13ms/step - loss: 0.5655 - accuracy: 0.7335 - val_loss: 0.5186 - val_accuracy: 0.8000\n",
            "Epoch 78/200\n",
            "10/10 [==============================] - 0s 16ms/step - loss: 0.5594 - accuracy: 0.6991 - val_loss: 0.5034 - val_accuracy: 0.8625\n",
            "Epoch 79/200\n",
            "10/10 [==============================] - 0s 12ms/step - loss: 0.5494 - accuracy: 0.7429 - val_loss: 0.5583 - val_accuracy: 0.7000\n",
            "Epoch 80/200\n",
            "10/10 [==============================] - 0s 8ms/step - loss: 0.5578 - accuracy: 0.7241 - val_loss: 0.5525 - val_accuracy: 0.7000\n",
            "Epoch 81/200\n",
            "10/10 [==============================] - 0s 8ms/step - loss: 0.5541 - accuracy: 0.7116 - val_loss: 0.4791 - val_accuracy: 0.7375\n",
            "Epoch 82/200\n",
            "10/10 [==============================] - 0s 8ms/step - loss: 0.5617 - accuracy: 0.6740 - val_loss: 0.5148 - val_accuracy: 0.8000\n",
            "Epoch 83/200\n",
            "10/10 [==============================] - 0s 7ms/step - loss: 0.5532 - accuracy: 0.7085 - val_loss: 0.5429 - val_accuracy: 0.7000\n",
            "Epoch 84/200\n",
            "10/10 [==============================] - 0s 7ms/step - loss: 0.5425 - accuracy: 0.7555 - val_loss: 0.4889 - val_accuracy: 0.8625\n",
            "Epoch 85/200\n",
            "10/10 [==============================] - 0s 7ms/step - loss: 0.5378 - accuracy: 0.7492 - val_loss: 0.5167 - val_accuracy: 0.7375\n",
            "Epoch 86/200\n",
            "10/10 [==============================] - 0s 7ms/step - loss: 0.5328 - accuracy: 0.7586 - val_loss: 0.4780 - val_accuracy: 0.8875\n",
            "Epoch 87/200\n",
            "10/10 [==============================] - 0s 7ms/step - loss: 0.5324 - accuracy: 0.7649 - val_loss: 0.4777 - val_accuracy: 0.9125\n",
            "Epoch 88/200\n",
            "10/10 [==============================] - 0s 6ms/step - loss: 0.5301 - accuracy: 0.7555 - val_loss: 0.4777 - val_accuracy: 0.8875\n",
            "Epoch 89/200\n",
            "10/10 [==============================] - 0s 8ms/step - loss: 0.5218 - accuracy: 0.7962 - val_loss: 0.5172 - val_accuracy: 0.7375\n",
            "Epoch 90/200\n",
            "10/10 [==============================] - 0s 6ms/step - loss: 0.5496 - accuracy: 0.6897 - val_loss: 0.4489 - val_accuracy: 0.8250\n",
            "Epoch 91/200\n",
            "10/10 [==============================] - 0s 8ms/step - loss: 0.5287 - accuracy: 0.7429 - val_loss: 0.4493 - val_accuracy: 0.8500\n",
            "Epoch 92/200\n",
            "10/10 [==============================] - 0s 6ms/step - loss: 0.5282 - accuracy: 0.7680 - val_loss: 0.5395 - val_accuracy: 0.7250\n",
            "Epoch 93/200\n",
            "10/10 [==============================] - 0s 8ms/step - loss: 0.5176 - accuracy: 0.7586 - val_loss: 0.5150 - val_accuracy: 0.7250\n",
            "Epoch 94/200\n",
            "10/10 [==============================] - 0s 9ms/step - loss: 0.5234 - accuracy: 0.7210 - val_loss: 0.4489 - val_accuracy: 0.7750\n",
            "Epoch 95/200\n",
            "10/10 [==============================] - 0s 9ms/step - loss: 0.5473 - accuracy: 0.7085 - val_loss: 0.4358 - val_accuracy: 0.8500\n",
            "Epoch 96/200\n",
            "10/10 [==============================] - 0s 7ms/step - loss: 0.5267 - accuracy: 0.7649 - val_loss: 0.4363 - val_accuracy: 0.8875\n",
            "Epoch 97/200\n",
            "10/10 [==============================] - 0s 8ms/step - loss: 0.5046 - accuracy: 0.7900 - val_loss: 0.4919 - val_accuracy: 0.7750\n",
            "Epoch 98/200\n",
            "10/10 [==============================] - 0s 10ms/step - loss: 0.5028 - accuracy: 0.8056 - val_loss: 0.4774 - val_accuracy: 0.8375\n",
            "Epoch 99/200\n",
            "10/10 [==============================] - 0s 10ms/step - loss: 0.5038 - accuracy: 0.7962 - val_loss: 0.4266 - val_accuracy: 0.8875\n",
            "Epoch 100/200\n",
            "10/10 [==============================] - 0s 11ms/step - loss: 0.4986 - accuracy: 0.7994 - val_loss: 0.4347 - val_accuracy: 0.9250\n",
            "Epoch 101/200\n",
            "10/10 [==============================] - 0s 10ms/step - loss: 0.4931 - accuracy: 0.8025 - val_loss: 0.4252 - val_accuracy: 0.9250\n",
            "Epoch 102/200\n",
            "10/10 [==============================] - 0s 12ms/step - loss: 0.4864 - accuracy: 0.7900 - val_loss: 0.4527 - val_accuracy: 0.8125\n",
            "Epoch 103/200\n",
            "10/10 [==============================] - 0s 10ms/step - loss: 0.4823 - accuracy: 0.7806 - val_loss: 0.3798 - val_accuracy: 0.8750\n",
            "Epoch 104/200\n",
            "10/10 [==============================] - 0s 8ms/step - loss: 0.4762 - accuracy: 0.7712 - val_loss: 0.3786 - val_accuracy: 0.8500\n",
            "Epoch 105/200\n",
            "10/10 [==============================] - 0s 9ms/step - loss: 0.4747 - accuracy: 0.7774 - val_loss: 0.4192 - val_accuracy: 0.8625\n",
            "Epoch 106/200\n",
            "10/10 [==============================] - 0s 9ms/step - loss: 0.4581 - accuracy: 0.8119 - val_loss: 0.3781 - val_accuracy: 0.9250\n",
            "Epoch 107/200\n",
            "10/10 [==============================] - 0s 10ms/step - loss: 0.4942 - accuracy: 0.7398 - val_loss: 0.3786 - val_accuracy: 0.8375\n",
            "Epoch 108/200\n",
            "10/10 [==============================] - 0s 9ms/step - loss: 0.4839 - accuracy: 0.7586 - val_loss: 0.3621 - val_accuracy: 0.8875\n",
            "Epoch 109/200\n",
            "10/10 [==============================] - 0s 9ms/step - loss: 0.4523 - accuracy: 0.8025 - val_loss: 0.3595 - val_accuracy: 0.8875\n",
            "Epoch 110/200\n",
            "10/10 [==============================] - 0s 10ms/step - loss: 0.4770 - accuracy: 0.7618 - val_loss: 0.4065 - val_accuracy: 0.8000\n",
            "Epoch 111/200\n",
            "10/10 [==============================] - 0s 10ms/step - loss: 0.4910 - accuracy: 0.7398 - val_loss: 0.3823 - val_accuracy: 0.8500\n",
            "Epoch 112/200\n",
            "10/10 [==============================] - 0s 8ms/step - loss: 0.4885 - accuracy: 0.7304 - val_loss: 0.3513 - val_accuracy: 0.8750\n",
            "Epoch 113/200\n",
            "10/10 [==============================] - 0s 8ms/step - loss: 0.4599 - accuracy: 0.7962 - val_loss: 0.3998 - val_accuracy: 0.8625\n",
            "Epoch 114/200\n",
            "10/10 [==============================] - 0s 9ms/step - loss: 0.4579 - accuracy: 0.7774 - val_loss: 0.3623 - val_accuracy: 0.9500\n",
            "Epoch 115/200\n",
            "10/10 [==============================] - 0s 9ms/step - loss: 0.4403 - accuracy: 0.8056 - val_loss: 0.3779 - val_accuracy: 0.8500\n",
            "Epoch 116/200\n",
            "10/10 [==============================] - 0s 10ms/step - loss: 0.5069 - accuracy: 0.7241 - val_loss: 0.3830 - val_accuracy: 0.8500\n",
            "Epoch 117/200\n",
            "10/10 [==============================] - 0s 10ms/step - loss: 0.4592 - accuracy: 0.7649 - val_loss: 0.3379 - val_accuracy: 0.8875\n",
            "Epoch 118/200\n",
            "10/10 [==============================] - 0s 9ms/step - loss: 0.4402 - accuracy: 0.8245 - val_loss: 0.3817 - val_accuracy: 0.9000\n",
            "Epoch 119/200\n",
            "10/10 [==============================] - 0s 9ms/step - loss: 0.4459 - accuracy: 0.7900 - val_loss: 0.4721 - val_accuracy: 0.7375\n",
            "Epoch 120/200\n",
            "10/10 [==============================] - 0s 10ms/step - loss: 0.4215 - accuracy: 0.8433 - val_loss: 0.3298 - val_accuracy: 0.8875\n",
            "Epoch 121/200\n",
            "10/10 [==============================] - 0s 10ms/step - loss: 0.4290 - accuracy: 0.8276 - val_loss: 0.3278 - val_accuracy: 0.8875\n",
            "Epoch 122/200\n",
            "10/10 [==============================] - 0s 10ms/step - loss: 0.4338 - accuracy: 0.7962 - val_loss: 0.3287 - val_accuracy: 0.9125\n",
            "Epoch 123/200\n",
            "10/10 [==============================] - 0s 9ms/step - loss: 0.4206 - accuracy: 0.8495 - val_loss: 0.3298 - val_accuracy: 0.9500\n",
            "Epoch 124/200\n",
            "10/10 [==============================] - 0s 8ms/step - loss: 0.4141 - accuracy: 0.8589 - val_loss: 0.3271 - val_accuracy: 0.9500\n",
            "Epoch 125/200\n",
            "10/10 [==============================] - 0s 11ms/step - loss: 0.4075 - accuracy: 0.8527 - val_loss: 0.3428 - val_accuracy: 0.9625\n",
            "Epoch 126/200\n",
            "10/10 [==============================] - 0s 9ms/step - loss: 0.4028 - accuracy: 0.8621 - val_loss: 0.3719 - val_accuracy: 0.8750\n",
            "Epoch 127/200\n",
            "10/10 [==============================] - 0s 6ms/step - loss: 0.4072 - accuracy: 0.8652 - val_loss: 0.3781 - val_accuracy: 0.8500\n",
            "Epoch 128/200\n",
            "10/10 [==============================] - 0s 8ms/step - loss: 0.4007 - accuracy: 0.8652 - val_loss: 0.3095 - val_accuracy: 0.8875\n",
            "Epoch 129/200\n",
            "10/10 [==============================] - 0s 8ms/step - loss: 0.4071 - accuracy: 0.8339 - val_loss: 0.3309 - val_accuracy: 0.9625\n",
            "Epoch 130/200\n",
            "10/10 [==============================] - 0s 6ms/step - loss: 0.4110 - accuracy: 0.8213 - val_loss: 0.4014 - val_accuracy: 0.8375\n",
            "Epoch 131/200\n",
            "10/10 [==============================] - 0s 6ms/step - loss: 0.4097 - accuracy: 0.8527 - val_loss: 0.3271 - val_accuracy: 0.9500\n",
            "Epoch 132/200\n",
            "10/10 [==============================] - 0s 9ms/step - loss: 0.3975 - accuracy: 0.8746 - val_loss: 0.2992 - val_accuracy: 0.8875\n",
            "Epoch 133/200\n",
            "10/10 [==============================] - 0s 6ms/step - loss: 0.3946 - accuracy: 0.8652 - val_loss: 0.3434 - val_accuracy: 0.9250\n",
            "Epoch 134/200\n",
            "10/10 [==============================] - 0s 6ms/step - loss: 0.4067 - accuracy: 0.8339 - val_loss: 0.3012 - val_accuracy: 0.9500\n",
            "Epoch 135/200\n",
            "10/10 [==============================] - 0s 8ms/step - loss: 0.4184 - accuracy: 0.8370 - val_loss: 0.2920 - val_accuracy: 0.9000\n",
            "Epoch 136/200\n",
            "10/10 [==============================] - 0s 8ms/step - loss: 0.3903 - accuracy: 0.8433 - val_loss: 0.3016 - val_accuracy: 0.9625\n",
            "Epoch 137/200\n",
            "10/10 [==============================] - 0s 8ms/step - loss: 0.3956 - accuracy: 0.8527 - val_loss: 0.2890 - val_accuracy: 0.9250\n",
            "Epoch 138/200\n",
            "10/10 [==============================] - 0s 9ms/step - loss: 0.3834 - accuracy: 0.8809 - val_loss: 0.3209 - val_accuracy: 0.9375\n",
            "Epoch 139/200\n",
            "10/10 [==============================] - 0s 6ms/step - loss: 0.4026 - accuracy: 0.8245 - val_loss: 0.2842 - val_accuracy: 0.9250\n",
            "Epoch 140/200\n",
            "10/10 [==============================] - 0s 6ms/step - loss: 0.3954 - accuracy: 0.8683 - val_loss: 0.2977 - val_accuracy: 0.9625\n",
            "Epoch 141/200\n",
            "10/10 [==============================] - 0s 7ms/step - loss: 0.4025 - accuracy: 0.8464 - val_loss: 0.3277 - val_accuracy: 0.9375\n",
            "Epoch 142/200\n",
            "10/10 [==============================] - 0s 8ms/step - loss: 0.3807 - accuracy: 0.8307 - val_loss: 0.2795 - val_accuracy: 0.9375\n",
            "Epoch 143/200\n",
            "10/10 [==============================] - 0s 7ms/step - loss: 0.3823 - accuracy: 0.8715 - val_loss: 0.2760 - val_accuracy: 0.9250\n",
            "Epoch 144/200\n",
            "10/10 [==============================] - 0s 6ms/step - loss: 0.3847 - accuracy: 0.8339 - val_loss: 0.3839 - val_accuracy: 0.8375\n",
            "Epoch 145/200\n",
            "10/10 [==============================] - 0s 7ms/step - loss: 0.3853 - accuracy: 0.8558 - val_loss: 0.2720 - val_accuracy: 0.9250\n",
            "Epoch 146/200\n",
            "10/10 [==============================] - 0s 7ms/step - loss: 0.3692 - accuracy: 0.8809 - val_loss: 0.3180 - val_accuracy: 0.9375\n",
            "Epoch 147/200\n",
            "10/10 [==============================] - 0s 7ms/step - loss: 0.3653 - accuracy: 0.8809 - val_loss: 0.2967 - val_accuracy: 0.9625\n",
            "Epoch 148/200\n",
            "10/10 [==============================] - 0s 6ms/step - loss: 0.3972 - accuracy: 0.8339 - val_loss: 0.3895 - val_accuracy: 0.8375\n",
            "Epoch 149/200\n",
            "10/10 [==============================] - 0s 6ms/step - loss: 0.3823 - accuracy: 0.8652 - val_loss: 0.2827 - val_accuracy: 0.9625\n",
            "Epoch 150/200\n",
            "10/10 [==============================] - 0s 8ms/step - loss: 0.3662 - accuracy: 0.8715 - val_loss: 0.2819 - val_accuracy: 0.9625\n",
            "Epoch 151/200\n",
            "10/10 [==============================] - 0s 8ms/step - loss: 0.3860 - accuracy: 0.8401 - val_loss: 0.2606 - val_accuracy: 0.9125\n",
            "Epoch 152/200\n",
            "10/10 [==============================] - 0s 8ms/step - loss: 0.3683 - accuracy: 0.8683 - val_loss: 0.2590 - val_accuracy: 0.9125\n",
            "Epoch 153/200\n",
            "10/10 [==============================] - 0s 6ms/step - loss: 0.3941 - accuracy: 0.8495 - val_loss: 0.2606 - val_accuracy: 0.9500\n",
            "Epoch 154/200\n",
            "10/10 [==============================] - 0s 7ms/step - loss: 0.3837 - accuracy: 0.8213 - val_loss: 0.2599 - val_accuracy: 0.9500\n",
            "Epoch 155/200\n",
            "10/10 [==============================] - 0s 7ms/step - loss: 0.3635 - accuracy: 0.8715 - val_loss: 0.2657 - val_accuracy: 0.9750\n",
            "Epoch 156/200\n",
            "10/10 [==============================] - 0s 6ms/step - loss: 0.3486 - accuracy: 0.8871 - val_loss: 0.2516 - val_accuracy: 0.9000\n",
            "Epoch 157/200\n",
            "10/10 [==============================] - 0s 6ms/step - loss: 0.3528 - accuracy: 0.8715 - val_loss: 0.2755 - val_accuracy: 0.9625\n",
            "Epoch 158/200\n",
            "10/10 [==============================] - 0s 6ms/step - loss: 0.3483 - accuracy: 0.8903 - val_loss: 0.2767 - val_accuracy: 0.9625\n",
            "Epoch 159/200\n",
            "10/10 [==============================] - 0s 7ms/step - loss: 0.3447 - accuracy: 0.8903 - val_loss: 0.2528 - val_accuracy: 0.9625\n",
            "Epoch 160/200\n",
            "10/10 [==============================] - 0s 6ms/step - loss: 0.3574 - accuracy: 0.8840 - val_loss: 0.2498 - val_accuracy: 0.9625\n",
            "Epoch 161/200\n",
            "10/10 [==============================] - 0s 6ms/step - loss: 0.3415 - accuracy: 0.8966 - val_loss: 0.3240 - val_accuracy: 0.8625\n",
            "Epoch 162/200\n",
            "10/10 [==============================] - 0s 8ms/step - loss: 0.3612 - accuracy: 0.8683 - val_loss: 0.2805 - val_accuracy: 0.9500\n",
            "Epoch 163/200\n",
            "10/10 [==============================] - 0s 8ms/step - loss: 0.3640 - accuracy: 0.8621 - val_loss: 0.2468 - val_accuracy: 0.9750\n",
            "Epoch 164/200\n",
            "10/10 [==============================] - 0s 7ms/step - loss: 0.3427 - accuracy: 0.8840 - val_loss: 0.2583 - val_accuracy: 0.9625\n",
            "Epoch 165/200\n",
            "10/10 [==============================] - 0s 8ms/step - loss: 0.3603 - accuracy: 0.8495 - val_loss: 0.2481 - val_accuracy: 0.9750\n",
            "Epoch 166/200\n",
            "10/10 [==============================] - 0s 6ms/step - loss: 0.4038 - accuracy: 0.8307 - val_loss: 0.2362 - val_accuracy: 0.9250\n",
            "Epoch 167/200\n",
            "10/10 [==============================] - 0s 8ms/step - loss: 0.3728 - accuracy: 0.8464 - val_loss: 0.2349 - val_accuracy: 0.9250\n",
            "Epoch 168/200\n",
            "10/10 [==============================] - 0s 7ms/step - loss: 0.3615 - accuracy: 0.8527 - val_loss: 0.2380 - val_accuracy: 0.9000\n",
            "Epoch 169/200\n",
            "10/10 [==============================] - 0s 7ms/step - loss: 0.3422 - accuracy: 0.8683 - val_loss: 0.2325 - val_accuracy: 0.9375\n",
            "Epoch 170/200\n",
            "10/10 [==============================] - 0s 6ms/step - loss: 0.3328 - accuracy: 0.8934 - val_loss: 0.2411 - val_accuracy: 0.9625\n",
            "Epoch 171/200\n",
            "10/10 [==============================] - 0s 7ms/step - loss: 0.3468 - accuracy: 0.8777 - val_loss: 0.2313 - val_accuracy: 0.9625\n",
            "Epoch 172/200\n",
            "10/10 [==============================] - 0s 8ms/step - loss: 0.3359 - accuracy: 0.8840 - val_loss: 0.2280 - val_accuracy: 0.9375\n",
            "Epoch 173/200\n",
            "10/10 [==============================] - 0s 8ms/step - loss: 0.3314 - accuracy: 0.8903 - val_loss: 0.2689 - val_accuracy: 0.9500\n",
            "Epoch 174/200\n",
            "10/10 [==============================] - 0s 6ms/step - loss: 0.3526 - accuracy: 0.8746 - val_loss: 0.3300 - val_accuracy: 0.8500\n",
            "Epoch 175/200\n",
            "10/10 [==============================] - 0s 8ms/step - loss: 0.3572 - accuracy: 0.8621 - val_loss: 0.3027 - val_accuracy: 0.9000\n",
            "Epoch 176/200\n",
            "10/10 [==============================] - 0s 8ms/step - loss: 0.3246 - accuracy: 0.8997 - val_loss: 0.2309 - val_accuracy: 0.9750\n",
            "Epoch 177/200\n",
            "10/10 [==============================] - 0s 8ms/step - loss: 0.3198 - accuracy: 0.8997 - val_loss: 0.2219 - val_accuracy: 0.9375\n",
            "Epoch 178/200\n",
            "10/10 [==============================] - 0s 8ms/step - loss: 0.3301 - accuracy: 0.8934 - val_loss: 0.2259 - val_accuracy: 0.9625\n",
            "Epoch 179/200\n",
            "10/10 [==============================] - 0s 8ms/step - loss: 0.3226 - accuracy: 0.8997 - val_loss: 0.2504 - val_accuracy: 0.9625\n",
            "Epoch 180/200\n",
            "10/10 [==============================] - 0s 8ms/step - loss: 0.3382 - accuracy: 0.8683 - val_loss: 0.2739 - val_accuracy: 0.9250\n",
            "Epoch 181/200\n",
            "10/10 [==============================] - 0s 7ms/step - loss: 0.3295 - accuracy: 0.8652 - val_loss: 0.3695 - val_accuracy: 0.8375\n",
            "Epoch 182/200\n",
            "10/10 [==============================] - 0s 6ms/step - loss: 0.3354 - accuracy: 0.8715 - val_loss: 0.2887 - val_accuracy: 0.9000\n",
            "Epoch 183/200\n",
            "10/10 [==============================] - 0s 6ms/step - loss: 0.3253 - accuracy: 0.8871 - val_loss: 0.2813 - val_accuracy: 0.9250\n",
            "Epoch 184/200\n",
            "10/10 [==============================] - 0s 7ms/step - loss: 0.3380 - accuracy: 0.8621 - val_loss: 0.3065 - val_accuracy: 0.8625\n",
            "Epoch 185/200\n",
            "10/10 [==============================] - 0s 9ms/step - loss: 0.4135 - accuracy: 0.8056 - val_loss: 0.2658 - val_accuracy: 0.9250\n",
            "Epoch 186/200\n",
            "10/10 [==============================] - 0s 9ms/step - loss: 0.3506 - accuracy: 0.8715 - val_loss: 0.2112 - val_accuracy: 0.9375\n",
            "Epoch 187/200\n",
            "10/10 [==============================] - 0s 6ms/step - loss: 0.3128 - accuracy: 0.8934 - val_loss: 0.2230 - val_accuracy: 0.9625\n",
            "Epoch 188/200\n",
            "10/10 [==============================] - 0s 7ms/step - loss: 0.3161 - accuracy: 0.8997 - val_loss: 0.2826 - val_accuracy: 0.9000\n",
            "Epoch 189/200\n",
            "10/10 [==============================] - 0s 6ms/step - loss: 0.3109 - accuracy: 0.8840 - val_loss: 0.2475 - val_accuracy: 0.9500\n",
            "Epoch 190/200\n",
            "10/10 [==============================] - 0s 7ms/step - loss: 0.3155 - accuracy: 0.8903 - val_loss: 0.2241 - val_accuracy: 0.9625\n",
            "Epoch 191/200\n",
            "10/10 [==============================] - 0s 6ms/step - loss: 0.3112 - accuracy: 0.8777 - val_loss: 0.2063 - val_accuracy: 0.9375\n",
            "Epoch 192/200\n",
            "10/10 [==============================] - 0s 8ms/step - loss: 0.3459 - accuracy: 0.8527 - val_loss: 0.2216 - val_accuracy: 0.9000\n",
            "Epoch 193/200\n",
            "10/10 [==============================] - 0s 8ms/step - loss: 0.3382 - accuracy: 0.8558 - val_loss: 0.2383 - val_accuracy: 0.8875\n",
            "Epoch 194/200\n",
            "10/10 [==============================] - 0s 6ms/step - loss: 0.3293 - accuracy: 0.8589 - val_loss: 0.2063 - val_accuracy: 0.9375\n",
            "Epoch 195/200\n",
            "10/10 [==============================] - 0s 8ms/step - loss: 0.3090 - accuracy: 0.8966 - val_loss: 0.2507 - val_accuracy: 0.9500\n",
            "Epoch 196/200\n",
            "10/10 [==============================] - 0s 7ms/step - loss: 0.3116 - accuracy: 0.8934 - val_loss: 0.2891 - val_accuracy: 0.9000\n",
            "Epoch 197/200\n",
            "10/10 [==============================] - 0s 7ms/step - loss: 0.3279 - accuracy: 0.8652 - val_loss: 0.2785 - val_accuracy: 0.9000\n",
            "Epoch 198/200\n",
            "10/10 [==============================] - 0s 7ms/step - loss: 0.3242 - accuracy: 0.8871 - val_loss: 0.2258 - val_accuracy: 0.9625\n",
            "Epoch 199/200\n",
            "10/10 [==============================] - 0s 6ms/step - loss: 0.3063 - accuracy: 0.8966 - val_loss: 0.2539 - val_accuracy: 0.9250\n",
            "Epoch 200/200\n",
            "10/10 [==============================] - 0s 8ms/step - loss: 0.3012 - accuracy: 0.9154 - val_loss: 0.2156 - val_accuracy: 0.9625\n"
          ]
        }
      ]
    },
    {
      "cell_type": "code",
      "source": [
        "ann.evaluate(x_test, y_test)"
      ],
      "metadata": {
        "colab": {
          "base_uri": "https://localhost:8080/"
        },
        "id": "bxISR2eTyVBS",
        "outputId": "44b1804d-5748-435d-fbf0-9cbe0d8ea538"
      },
      "execution_count": null,
      "outputs": [
        {
          "output_type": "stream",
          "name": "stdout",
          "text": [
            "4/4 [==============================] - 0s 4ms/step - loss: 0.3247 - accuracy: 0.8800\n"
          ]
        },
        {
          "output_type": "execute_result",
          "data": {
            "text/plain": [
              "[0.32467082142829895, 0.8799999952316284]"
            ]
          },
          "metadata": {},
          "execution_count": 197
        }
      ]
    },
    {
      "cell_type": "code",
      "source": [
        "\n",
        "yp = ann.predict(x_test)\n",
        "yp[:5]"
      ],
      "metadata": {
        "colab": {
          "base_uri": "https://localhost:8080/"
        },
        "id": "0uvoQQi9yhGz",
        "outputId": "0fa5c6be-7466-4c0a-d127-54dc53fab124"
      },
      "execution_count": null,
      "outputs": [
        {
          "output_type": "stream",
          "name": "stdout",
          "text": [
            "4/4 [==============================] - 0s 2ms/step\n"
          ]
        },
        {
          "output_type": "execute_result",
          "data": {
            "text/plain": [
              "array([[0.02918826],\n",
              "       [0.05337536],\n",
              "       [0.9847559 ],\n",
              "       [0.0373975 ],\n",
              "       [0.86253154]], dtype=float32)"
            ]
          },
          "metadata": {},
          "execution_count": 198
        }
      ]
    },
    {
      "cell_type": "code",
      "source": [
        "y_pred = []\n",
        "for element in yp:\n",
        "    if element > 0.5: # becasue it's sigmoid\n",
        "        y_pred.append(1)\n",
        "    else:\n",
        "        y_pred.append(0)"
      ],
      "metadata": {
        "id": "-gTrGFzLybMi"
      },
      "execution_count": null,
      "outputs": []
    },
    {
      "cell_type": "code",
      "source": [
        "from sklearn.metrics import confusion_matrix , classification_report\n",
        "\n",
        "print(classification_report(y_test,y_pred))"
      ],
      "metadata": {
        "colab": {
          "base_uri": "https://localhost:8080/"
        },
        "id": "sX1hLqZ6yeoV",
        "outputId": "257e990f-d785-49db-da8e-51a9a7fbdb49"
      },
      "execution_count": null,
      "outputs": [
        {
          "output_type": "stream",
          "name": "stdout",
          "text": [
            "              precision    recall  f1-score   support\n",
            "\n",
            "           0       0.91      0.88      0.89        56\n",
            "           1       0.85      0.89      0.87        44\n",
            "\n",
            "    accuracy                           0.88       100\n",
            "   macro avg       0.88      0.88      0.88       100\n",
            "weighted avg       0.88      0.88      0.88       100\n",
            "\n"
          ]
        }
      ]
    },
    {
      "cell_type": "code",
      "source": [
        "plt.plot(hist.history['loss'])\n",
        "plt.plot(hist.history['val_loss'])\n",
        "\n",
        "plt.title('Model Loss Progression During Trianning/Validation')\n",
        "plt.ylabel('Training and Validation Losses')\n",
        "plt.xlabel('Epoch Number')\n",
        "plt.legend(['Training Loss','Validation Loss'])"
      ],
      "metadata": {
        "colab": {
          "base_uri": "https://localhost:8080/",
          "height": 489
        },
        "id": "QyOJUhroyjoQ",
        "outputId": "60b127db-038c-4527-a11e-468e8f3d7db4"
      },
      "execution_count": null,
      "outputs": [
        {
          "output_type": "execute_result",
          "data": {
            "text/plain": [
              "<matplotlib.legend.Legend at 0x7c95090ce170>"
            ]
          },
          "metadata": {},
          "execution_count": 201
        },
        {
          "output_type": "display_data",
          "data": {
            "text/plain": [
              "<Figure size 640x480 with 1 Axes>"
            ],
            "image/png": "[encoded data removed]"
          },
          "metadata": {}
        }
      ]
    }
  ]
}