{
 "cells": [
  {
   "cell_type": "markdown",
   "id": "43da86cb",
   "metadata": {},
   "source": [
    "# DL CASE-STUDIES | COMPUTER VISION (CV)"
   ]
  },
  {
   "cell_type": "markdown",
   "id": "a6b0e3d7",
   "metadata": {},
   "source": [
    "## Importing Libraries"
   ]
  },
  {
   "cell_type": "code",
   "execution_count": 2,
   "id": "3247e4ca",
   "metadata": {},
   "outputs": [],
   "source": [
    "import numpy as np\n",
    "import pandas as pd\n",
    "import matplotlib.pyplot as plt\n",
    "import seaborn as sns\n",
    "%matplotlib inline\n",
    "# sns.set()"
   ]
  },
  {
   "cell_type": "code",
   "execution_count": 3,
   "id": "96e22325",
   "metadata": {},
   "outputs": [],
   "source": [
    "import warnings\n",
    "warnings.filterwarnings(\"ignore\")"
   ]
  },
  {
   "cell_type": "code",
   "execution_count": null,
   "id": "88c7e779",
   "metadata": {},
   "outputs": [],
   "source": []
  },
  {
   "cell_type": "markdown",
   "id": "0d39699a",
   "metadata": {},
   "source": [
    "=========="
   ]
  },
  {
   "cell_type": "markdown",
   "id": "f8c2ed4b",
   "metadata": {},
   "source": [
    "## Traffic Signs | Image Classification (CV Case-study)"
   ]
  },
  {
   "cell_type": "markdown",
   "id": "65d6f76f",
   "metadata": {},
   "source": [
    "Dataset Source: https://www.kaggle.com/code/shivank856/gtsrb-cnn-98-test-accuracy/data"
   ]
  },
  {
   "cell_type": "markdown",
   "id": "11e9bbc8",
   "metadata": {},
   "source": [
    "- In this case study, you have been provided with images of traffic signs and the goal is to train a Deep Network to classify them\n",
    "- The dataset contains 43 different classes of images. \n",
    "- Classes are as listed below: \n",
    "\n",
    "    - ( 0, b'Speed limit (20km/h)') ( 1, b'Speed limit (30km/h)')\n",
    "    - ( 2, b'Speed limit (50km/h)') ( 3, b'Speed limit (60km/h)')\n",
    "    - ( 4, b'Speed limit (70km/h)') ( 5, b'Speed limit (80km/h)')\n",
    "    - ( 6, b'End of speed limit (80km/h)') ( 7, b'Speed limit (100km/h)')\n",
    "    - ( 8, b'Speed limit (120km/h)') ( 9, b'No passing')\n",
    "    - (10, b'No passing for vehicles over 3.5 metric tons')\n",
    "    - (11, b'Right-of-way at the next intersection') (12, b'Priority road')\n",
    "    - (13, b'Yield') (14, b'Stop') (15, b'No vehicles')\n",
    "    - (16, b'Vehicles over 3.5 metric tons prohibited') (17, b'No entry')\n",
    "    - (18, b'General caution') (19, b'Dangerous curve to the left')\n",
    "    - (20, b'Dangerous curve to the right') (21, b'Double curve')\n",
    "    - (22, b'Bumpy road') (23, b'Slippery road')\n",
    "    - (24, b'Road narrows on the right') (25, b'Road work')\n",
    "    - (26, b'Traffic signals') (27, b'Pedestrians') (28, b'Children crossing')\n",
    "    - (29, b'Bicycles crossing') (30, b'Beware of ice/snow')\n",
    "    - (31, b'Wild animals crossing')\n",
    "    - (32, b'End of all speed and passing limits') (33, b'Turn right ahead')\n",
    "    - (34, b'Turn left ahead') (35, b'Ahead only') (36, b'Go straight or right')\n",
    "    - (37, b'Go straight or left') (38, b'Keep right') (39, b'Keep left')\n",
    "    - (40, b'Roundabout mandatory') (41, b'End of no passing')\n",
    "    - (42, b'End of no passing by vehicles over 3.5 metric tons')\n",
    "\n",
    "- The network used is called Le-Net that was presented by Yann LeCun\n",
    "http://yann.lecun.com/exdb/publis/pdf/lecun-01a.pdf\n"
   ]
  },
  {
   "cell_type": "code",
   "execution_count": 4,
   "id": "e9b3553b",
   "metadata": {},
   "outputs": [],
   "source": [
    "#from IPython.display import Image\n",
    "#Image(\"imgs/lenet.png\")"
   ]
  },
  {
   "cell_type": "code",
   "execution_count": 5,
   "id": "f8f41eb2",
   "metadata": {},
   "outputs": [],
   "source": [
    "#from IPython.display import Image\n",
    "#Image(\"imgs/traffic-signs-cnn.png\")"
   ]
  },
  {
   "cell_type": "code",
   "execution_count": null,
   "id": "fb6b376c",
   "metadata": {},
   "outputs": [],
   "source": []
  },
  {
   "cell_type": "markdown",
   "id": "a2b9ccf5",
   "metadata": {},
   "source": [
    "## Importing & Inspecting Data"
   ]
  },
  {
   "cell_type": "code",
   "execution_count": 6,
   "id": "191855a5",
   "metadata": {},
   "outputs": [
    {
     "data": {
      "text/plain": [
       "{'coords': array([[  6,   5,  21,  20],\n",
       "        [  6,   6,  22,  22],\n",
       "        [  5,   6,  22,  23],\n",
       "        ...,\n",
       "        [ 17,  15, 178, 155],\n",
       "        [ 17,  15, 183, 160],\n",
       "        [ 20,  18, 211, 184]], dtype=uint8),\n",
       " 'labels': array([41, 41, 41, ..., 25, 25, 25], dtype=uint8),\n",
       " 'features': array([[[[ 28,  25,  24],\n",
       "          [ 27,  24,  23],\n",
       "          [ 27,  24,  22],\n",
       "          ...,\n",
       "          [ 32,  28,  24],\n",
       "          [ 31,  27,  25],\n",
       "          [ 31,  27,  26]],\n",
       " \n",
       "         [[ 29,  26,  25],\n",
       "          [ 27,  25,  23],\n",
       "          [ 27,  25,  23],\n",
       "          ...,\n",
       "          [ 32,  28,  24],\n",
       "          [ 31,  27,  24],\n",
       "          [ 30,  27,  25]],\n",
       " \n",
       "         [[ 28,  26,  26],\n",
       "          [ 27,  25,  23],\n",
       "          [ 26,  25,  23],\n",
       "          ...,\n",
       "          [ 32,  28,  24],\n",
       "          [ 31,  27,  24],\n",
       "          [ 30,  27,  25]],\n",
       " \n",
       "         ...,\n",
       " \n",
       "         [[ 27,  24,  23],\n",
       "          [ 28,  25,  24],\n",
       "          [ 30,  25,  24],\n",
       "          ...,\n",
       "          [ 27,  24,  23],\n",
       "          [ 28,  24,  22],\n",
       "          [ 29,  25,  22]],\n",
       " \n",
       "         [[ 28,  23,  23],\n",
       "          [ 29,  24,  24],\n",
       "          [ 31,  25,  24],\n",
       "          ...,\n",
       "          [ 27,  24,  23],\n",
       "          [ 28,  24,  22],\n",
       "          [ 28,  24,  21]],\n",
       " \n",
       "         [[ 29,  23,  23],\n",
       "          [ 30,  24,  24],\n",
       "          [ 32,  24,  23],\n",
       "          ...,\n",
       "          [ 27,  24,  22],\n",
       "          [ 27,  23,  21],\n",
       "          [ 26,  22,  20]]],\n",
       " \n",
       " \n",
       "        [[[ 28,  24,  24],\n",
       "          [ 26,  23,  23],\n",
       "          [ 27,  24,  24],\n",
       "          ...,\n",
       "          [ 31,  28,  26],\n",
       "          [ 31,  28,  27],\n",
       "          [ 32,  28,  27]],\n",
       " \n",
       "         [[ 27,  24,  24],\n",
       "          [ 27,  24,  24],\n",
       "          [ 28,  25,  24],\n",
       "          ...,\n",
       "          [ 31,  27,  25],\n",
       "          [ 31,  27,  26],\n",
       "          [ 33,  29,  27]],\n",
       " \n",
       "         [[ 26,  24,  24],\n",
       "          [ 26,  24,  24],\n",
       "          [ 27,  24,  23],\n",
       "          ...,\n",
       "          [ 31,  26,  25],\n",
       "          [ 31,  27,  26],\n",
       "          [ 33,  29,  27]],\n",
       " \n",
       "         ...,\n",
       " \n",
       "         [[ 28,  25,  23],\n",
       "          [ 30,  27,  24],\n",
       "          [ 30,  27,  24],\n",
       "          ...,\n",
       "          [ 27,  24,  22],\n",
       "          [ 27,  24,  22],\n",
       "          [ 28,  24,  22]],\n",
       " \n",
       "         [[ 27,  24,  22],\n",
       "          [ 29,  26,  23],\n",
       "          [ 31,  26,  24],\n",
       "          ...,\n",
       "          [ 26,  23,  21],\n",
       "          [ 27,  24,  22],\n",
       "          [ 28,  25,  23]],\n",
       " \n",
       "         [[ 28,  24,  23],\n",
       "          [ 28,  24,  22],\n",
       "          [ 29,  24,  22],\n",
       "          ...,\n",
       "          [ 27,  23,  22],\n",
       "          [ 27,  24,  23],\n",
       "          [ 29,  26,  25]]],\n",
       " \n",
       " \n",
       "        [[[ 29,  25,  25],\n",
       "          [ 29,  26,  26],\n",
       "          [ 30,  27,  27],\n",
       "          ...,\n",
       "          [ 31,  27,  24],\n",
       "          [ 31,  28,  25],\n",
       "          [ 32,  29,  27]],\n",
       " \n",
       "         [[ 27,  24,  24],\n",
       "          [ 27,  25,  25],\n",
       "          [ 28,  26,  26],\n",
       "          ...,\n",
       "          [ 31,  27,  23],\n",
       "          [ 32,  28,  25],\n",
       "          [ 33,  30,  27]],\n",
       " \n",
       "         [[ 27,  24,  24],\n",
       "          [ 28,  26,  26],\n",
       "          [ 29,  27,  27],\n",
       "          ...,\n",
       "          [ 32,  28,  24],\n",
       "          [ 32,  28,  24],\n",
       "          [ 33,  29,  26]],\n",
       " \n",
       "         ...,\n",
       " \n",
       "         [[ 28,  26,  22],\n",
       "          [ 29,  26,  21],\n",
       "          [ 31,  26,  22],\n",
       "          ...,\n",
       "          [ 29,  24,  21],\n",
       "          [ 28,  23,  20],\n",
       "          [ 28,  23,  22]],\n",
       " \n",
       "         [[ 27,  26,  23],\n",
       "          [ 28,  25,  21],\n",
       "          [ 30,  25,  22],\n",
       "          ...,\n",
       "          [ 28,  23,  21],\n",
       "          [ 27,  22,  20],\n",
       "          [ 28,  24,  22]],\n",
       " \n",
       "         [[ 29,  26,  23],\n",
       "          [ 28,  24,  21],\n",
       "          [ 29,  24,  21],\n",
       "          ...,\n",
       "          [ 29,  25,  23],\n",
       "          [ 28,  24,  22],\n",
       "          [ 30,  26,  24]]],\n",
       " \n",
       " \n",
       "        ...,\n",
       " \n",
       " \n",
       "        [[[ 51,  67,  86],\n",
       "          [ 55,  59,  71],\n",
       "          [ 75,  81,  92],\n",
       "          ...,\n",
       "          [250, 248, 243],\n",
       "          [207, 212, 233],\n",
       "          [121, 116, 140]],\n",
       " \n",
       "         [[ 35,  42,  49],\n",
       "          [ 48,  47,  51],\n",
       "          [ 91,  96, 113],\n",
       "          ...,\n",
       "          [220, 224, 226],\n",
       "          [169, 177, 187],\n",
       "          [ 84,  87, 100]],\n",
       " \n",
       "         [[ 27,  26,  29],\n",
       "          [ 41,  38,  39],\n",
       "          [ 55,  64,  78],\n",
       "          ...,\n",
       "          [122, 143, 160],\n",
       "          [ 97, 104, 129],\n",
       "          [ 59,  59,  56]],\n",
       " \n",
       "         ...,\n",
       " \n",
       "         [[ 24,  23,  27],\n",
       "          [ 21,  20,  27],\n",
       "          [ 20,  19,  22],\n",
       "          ...,\n",
       "          [ 76,  79,  83],\n",
       "          [ 54,  64,  77],\n",
       "          [ 45,  51,  65]],\n",
       " \n",
       "         [[ 31,  31,  33],\n",
       "          [ 22,  23,  29],\n",
       "          [ 20,  18,  21],\n",
       "          ...,\n",
       "          [ 66,  67,  84],\n",
       "          [ 56,  65,  74],\n",
       "          [ 45,  55,  73]],\n",
       " \n",
       "         [[ 28,  28,  30],\n",
       "          [ 22,  21,  25],\n",
       "          [ 19,  18,  19],\n",
       "          ...,\n",
       "          [ 67,  63,  76],\n",
       "          [ 39,  45,  55],\n",
       "          [ 32,  37,  47]]],\n",
       " \n",
       " \n",
       "        [[[ 82,  78,  96],\n",
       "          [120, 126, 148],\n",
       "          [112, 125, 146],\n",
       "          ...,\n",
       "          [185, 182, 177],\n",
       "          [204, 210, 215],\n",
       "          [132, 114, 121]],\n",
       " \n",
       "         [[ 74,  77,  93],\n",
       "          [171, 174, 185],\n",
       "          [137, 164, 184],\n",
       "          ...,\n",
       "          [180, 181, 187],\n",
       "          [198, 200, 213],\n",
       "          [ 79,  85,  85]],\n",
       " \n",
       "         [[ 54,  50,  56],\n",
       "          [100, 106, 118],\n",
       "          [117, 132, 158],\n",
       "          ...,\n",
       "          [157, 153, 160],\n",
       "          [176, 183, 199],\n",
       "          [ 88,  80,  82]],\n",
       " \n",
       "         ...,\n",
       " \n",
       "         [[ 22,  21,  22],\n",
       "          [ 20,  19,  19],\n",
       "          [ 18,  16,  19],\n",
       "          ...,\n",
       "          [ 50,  50,  60],\n",
       "          [ 37,  43,  52],\n",
       "          [ 30,  41,  59]],\n",
       " \n",
       "         [[ 18,  16,  18],\n",
       "          [ 19,  17,  18],\n",
       "          [ 19,  18,  21],\n",
       "          ...,\n",
       "          [ 36,  44,  60],\n",
       "          [ 33,  36,  48],\n",
       "          [ 36,  43,  61]],\n",
       " \n",
       "         [[ 18,  17,  20],\n",
       "          [ 21,  20,  23],\n",
       "          [ 24,  22,  25],\n",
       "          ...,\n",
       "          [ 32,  34,  41],\n",
       "          [ 45,  42,  48],\n",
       "          [ 41,  43,  52]]],\n",
       " \n",
       " \n",
       "        [[[ 69,  79,  96],\n",
       "          [ 24,  26,  28],\n",
       "          [ 40,  42,  45],\n",
       "          ...,\n",
       "          [225, 234, 237],\n",
       "          [151, 161, 166],\n",
       "          [164, 162, 169]],\n",
       " \n",
       "         [[ 99, 110, 125],\n",
       "          [ 36,  41,  47],\n",
       "          [ 63,  56,  62],\n",
       "          ...,\n",
       "          [197, 216, 224],\n",
       "          [154, 163, 169],\n",
       "          [164, 163, 159]],\n",
       " \n",
       "         [[104, 107, 113],\n",
       "          [ 34,  37,  40],\n",
       "          [ 72,  70,  77],\n",
       "          ...,\n",
       "          [223, 237, 235],\n",
       "          [181, 192, 198],\n",
       "          [166, 167, 159]],\n",
       " \n",
       "         ...,\n",
       " \n",
       "         [[ 21,  20,  23],\n",
       "          [ 23,  24,  30],\n",
       "          [ 19,  20,  24],\n",
       "          ...,\n",
       "          [ 45,  47,  54],\n",
       "          [ 58,  62,  70],\n",
       "          [ 58,  70,  82]],\n",
       " \n",
       "         [[ 18,  17,  21],\n",
       "          [ 19,  19,  24],\n",
       "          [ 18,  18,  23],\n",
       "          ...,\n",
       "          [ 36,  36,  40],\n",
       "          [ 58,  59,  70],\n",
       "          [ 61,  69,  81]],\n",
       " \n",
       "         [[ 17,  16,  19],\n",
       "          [ 16,  15,  18],\n",
       "          [ 16,  15,  18],\n",
       "          ...,\n",
       "          [ 40,  40,  44],\n",
       "          [ 57,  62,  73],\n",
       "          [ 57,  68,  80]]]], dtype=uint8),\n",
       " 'sizes': array([[ 26,  25],\n",
       "        [ 27,  27],\n",
       "        [ 27,  28],\n",
       "        ...,\n",
       "        [194, 169],\n",
       "        [201, 175],\n",
       "        [230, 201]], dtype=uint8)}"
      ]
     },
     "execution_count": 6,
     "metadata": {},
     "output_type": "execute_result"
    }
   ],
   "source": [
    "train = pd.read_pickle('train.p')\n",
    "train"
   ]
  },
  {
   "cell_type": "code",
   "execution_count": 7,
   "id": "291cd147",
   "metadata": {},
   "outputs": [],
   "source": [
    "X_train, y_train = train['features'], train['labels']"
   ]
  },
  {
   "cell_type": "code",
   "execution_count": 8,
   "id": "93a050ff",
   "metadata": {},
   "outputs": [],
   "source": [
    "valid = pd.read_pickle('valid.p')\n",
    "# valid"
   ]
  },
  {
   "cell_type": "code",
   "execution_count": 9,
   "id": "0b0b92c1",
   "metadata": {},
   "outputs": [],
   "source": [
    "X_valid, y_valid = valid['features'], valid['labels']"
   ]
  },
  {
   "cell_type": "code",
   "execution_count": 10,
   "id": "520ec94f",
   "metadata": {},
   "outputs": [],
   "source": [
    "test = pd.read_pickle('test.p')\n",
    "# test"
   ]
  },
  {
   "cell_type": "code",
   "execution_count": 11,
   "id": "d31381fb",
   "metadata": {},
   "outputs": [],
   "source": [
    "X_test, y_test = test['features'], test['labels']"
   ]
  },
  {
   "cell_type": "code",
   "execution_count": 12,
   "id": "71c9afa8",
   "metadata": {},
   "outputs": [
    {
     "data": {
      "text/plain": [
       "(34799, 32, 32, 3)"
      ]
     },
     "execution_count": 12,
     "metadata": {},
     "output_type": "execute_result"
    }
   ],
   "source": [
    "X_train.shape # 32 pixel * 32 pixel ,3 RGB"
   ]
  },
  {
   "cell_type": "code",
   "execution_count": 13,
   "id": "231ac504",
   "metadata": {},
   "outputs": [
    {
     "data": {
      "text/plain": [
       "(34799,)"
      ]
     },
     "execution_count": 13,
     "metadata": {},
     "output_type": "execute_result"
    }
   ],
   "source": [
    "y_train.shape"
   ]
  },
  {
   "cell_type": "code",
   "execution_count": null,
   "id": "bbe4e15c",
   "metadata": {},
   "outputs": [],
   "source": []
  },
  {
   "cell_type": "markdown",
   "id": "d4fce451",
   "metadata": {},
   "source": [
    "## Exploring Data"
   ]
  },
  {
   "cell_type": "code",
   "execution_count": 14,
   "id": "a0f57c36",
   "metadata": {},
   "outputs": [
    {
     "data": {
      "text/plain": [
       "9"
      ]
     },
     "execution_count": 14,
     "metadata": {},
     "output_type": "execute_result"
    },
    {
     "data": {
      "image/png": "[encoded data removed]",
      "text/plain": [
       "<Figure size 640x480 with 1 Axes>"
      ]
     },
     "metadata": {},
     "output_type": "display_data"
    }
   ],
   "source": [
    "plt.imshow(X_train[11234])\n",
    "y_train[11234]"
   ]
  },
  {
   "cell_type": "code",
   "execution_count": null,
   "id": "5e85b646",
   "metadata": {},
   "outputs": [],
   "source": []
  },
  {
   "cell_type": "markdown",
   "id": "dc5f59f4",
   "metadata": {},
   "source": [
    "## Preparing Data"
   ]
  },
  {
   "cell_type": "markdown",
   "id": "703f02fa",
   "metadata": {},
   "source": [
    "##### Data Shuffling"
   ]
  },
  {
   "cell_type": "code",
   "execution_count": 15,
   "id": "62baf717",
   "metadata": {},
   "outputs": [],
   "source": [
    "from sklearn.utils import shuffle\n",
    "X_train, y_train = shuffle(X_train, y_train)"
   ]
  },
  {
   "cell_type": "code",
   "execution_count": 16,
   "id": "d9bca414",
   "metadata": {},
   "outputs": [],
   "source": [
    "X_train_gray = np.sum(X_train/3, axis=3, keepdims=True) # gray scale, sum and divide by 3 to get all pixels and then sumiris \n",
    "X_test_gray  = np.sum(X_test/3, axis=3, keepdims=True)\n",
    "X_validation_gray  = np.sum(X_valid/3, axis=3, keepdims=True) "
   ]
  },
  {
   "cell_type": "code",
   "execution_count": 17,
   "id": "96964d4a",
   "metadata": {},
   "outputs": [],
   "source": [
    "X_train_gray_norm = (X_train_gray - 128)/128 # normalize Min max scaling\n",
    "X_test_gray_norm = (X_test_gray - 128)/128\n",
    "X_validation_gray_norm = (X_validation_gray - 128)/128"
   ]
  },
  {
   "cell_type": "code",
   "execution_count": 18,
   "id": "eb541271",
   "metadata": {},
   "outputs": [
    {
     "data": {
      "text/plain": [
       "(34799, 32, 32, 1)"
      ]
     },
     "execution_count": 18,
     "metadata": {},
     "output_type": "execute_result"
    }
   ],
   "source": [
    "X_train_gray.shape"
   ]
  },
  {
   "cell_type": "code",
   "execution_count": 22,
   "id": "dd21cdfd",
   "metadata": {},
   "outputs": [
    {
     "data": {
      "text/plain": [
       "<matplotlib.image.AxesImage at 0x1e800303d30>"
      ]
     },
     "execution_count": 22,
     "metadata": {},
     "output_type": "execute_result"
    },
    {
     "data": {
      "image/png": "[encoded data removed]",
      "text/plain": [
       "<Figure size 640x480 with 1 Axes>"
      ]
     },
     "metadata": {},
     "output_type": "display_data"
    },
    {
     "data": {
      "image/png": "[encoded data removed]",
      "text/plain": [
       "<Figure size 640x480 with 1 Axes>"
      ]
     },
     "metadata": {},
     "output_type": "display_data"
    }
   ],
   "source": [
    "plt.imshow(X_train_gray[1000].squeeze(), cmap='gray')\n",
    "plt.figure()\n",
    "plt.imshow(X_train[1000])"
   ]
  },
  {
   "cell_type": "code",
   "execution_count": null,
   "id": "0e60b99e",
   "metadata": {},
   "outputs": [],
   "source": []
  },
  {
   "cell_type": "markdown",
   "id": "4eca46d4",
   "metadata": {},
   "source": [
    "## Model Training & Building "
   ]
  },
  {
   "cell_type": "code",
   "execution_count": 23,
   "id": "dda3594e",
   "metadata": {},
   "outputs": [],
   "source": [
    "# Import train_test_split from scikit library\n",
    "\n",
    "from keras.models import Sequential\n",
    "from keras.layers import Conv2D, MaxPooling2D, AveragePooling2D, Dense, Flatten, Dropout\n",
    "from keras.optimizers import Adam\n",
    "from keras.callbacks import TensorBoard\n",
    "\n",
    "from sklearn.model_selection import train_test_split\n"
   ]
  },
  {
   "cell_type": "code",
   "execution_count": 24,
   "id": "450839c2",
   "metadata": {},
   "outputs": [],
   "source": [
    "cnn_model = Sequential()\n",
    "\n",
    "cnn_model.add(Conv2D(filters=6, kernel_size=(5, 5), activation='relu', input_shape=(32,32,1)))\n",
    "cnn_model.add(AveragePooling2D())\n",
    "\n",
    "cnn_model.add(Conv2D(filters=16, kernel_size=(5, 5), activation='relu'))\n",
    "cnn_model.add(AveragePooling2D())\n",
    "\n",
    "cnn_model.add(Flatten())\n",
    "\n",
    "cnn_model.add(Dense(units=120, activation='relu'))\n",
    "\n",
    "cnn_model.add(Dense(units=84, activation='relu'))\n",
    "\n",
    "cnn_model.add(Dense(units=43, activation = 'softmax'))\n"
   ]
  },
  {
   "cell_type": "code",
   "execution_count": 25,
   "id": "68aa88ab",
   "metadata": {},
   "outputs": [],
   "source": [
    "cnn_model.compile(loss ='sparse_categorical_crossentropy', optimizer=Adam(lr=0.001),metrics =['accuracy'])"
   ]
  },
  {
   "cell_type": "code",
   "execution_count": 26,
   "id": "ca28d7d8",
   "metadata": {},
   "outputs": [
    {
     "name": "stdout",
     "output_type": "stream",
     "text": [
      "Epoch 1/50\n",
      "70/70 [==============================] - 7s 91ms/step - loss: 3.1514 - accuracy: 0.1858 - val_loss: 2.5899 - val_accuracy: 0.3415\n",
      "Epoch 2/50\n",
      "70/70 [==============================] - 6s 86ms/step - loss: 1.6021 - accuracy: 0.5530 - val_loss: 1.3704 - val_accuracy: 0.6086\n",
      "Epoch 3/50\n",
      "70/70 [==============================] - 6s 88ms/step - loss: 0.9043 - accuracy: 0.7389 - val_loss: 1.0047 - val_accuracy: 0.6927\n",
      "Epoch 4/50\n",
      "70/70 [==============================] - 6s 87ms/step - loss: 0.6422 - accuracy: 0.8231 - val_loss: 0.8519 - val_accuracy: 0.7549\n",
      "Epoch 5/50\n",
      "70/70 [==============================] - 6s 92ms/step - loss: 0.5072 - accuracy: 0.8628 - val_loss: 0.7955 - val_accuracy: 0.7685\n",
      "Epoch 6/50\n",
      "70/70 [==============================] - 6s 88ms/step - loss: 0.4246 - accuracy: 0.8855 - val_loss: 0.7100 - val_accuracy: 0.7859\n",
      "Epoch 7/50\n",
      "70/70 [==============================] - 7s 98ms/step - loss: 0.3594 - accuracy: 0.9043 - val_loss: 0.6752 - val_accuracy: 0.7973\n",
      "Epoch 8/50\n",
      "70/70 [==============================] - 6s 91ms/step - loss: 0.3096 - accuracy: 0.9184 - val_loss: 0.6584 - val_accuracy: 0.7998\n",
      "Epoch 9/50\n",
      "70/70 [==============================] - 6s 85ms/step - loss: 0.2647 - accuracy: 0.9335 - val_loss: 0.6640 - val_accuracy: 0.8143\n",
      "Epoch 10/50\n",
      "70/70 [==============================] - 6s 84ms/step - loss: 0.2342 - accuracy: 0.9416 - val_loss: 0.6532 - val_accuracy: 0.8102\n",
      "Epoch 11/50\n",
      "70/70 [==============================] - 6s 82ms/step - loss: 0.2092 - accuracy: 0.9469 - val_loss: 0.6687 - val_accuracy: 0.8206\n",
      "Epoch 12/50\n",
      "70/70 [==============================] - 6s 82ms/step - loss: 0.1845 - accuracy: 0.9547 - val_loss: 0.6252 - val_accuracy: 0.8317\n",
      "Epoch 13/50\n",
      "70/70 [==============================] - 6s 82ms/step - loss: 0.1681 - accuracy: 0.9586 - val_loss: 0.6169 - val_accuracy: 0.8324\n",
      "Epoch 14/50\n",
      "70/70 [==============================] - 6s 83ms/step - loss: 0.1554 - accuracy: 0.9614 - val_loss: 0.6206 - val_accuracy: 0.8358\n",
      "Epoch 15/50\n",
      "70/70 [==============================] - 6s 86ms/step - loss: 0.1370 - accuracy: 0.9666 - val_loss: 0.6469 - val_accuracy: 0.8308\n",
      "Epoch 16/50\n",
      "70/70 [==============================] - 7s 95ms/step - loss: 0.1293 - accuracy: 0.9670 - val_loss: 0.6720 - val_accuracy: 0.8254\n",
      "Epoch 17/50\n",
      "70/70 [==============================] - 6s 92ms/step - loss: 0.1197 - accuracy: 0.9696 - val_loss: 0.7028 - val_accuracy: 0.8293\n",
      "Epoch 18/50\n",
      "70/70 [==============================] - 6s 84ms/step - loss: 0.1075 - accuracy: 0.9724 - val_loss: 0.7187 - val_accuracy: 0.8256\n",
      "Epoch 19/50\n",
      "70/70 [==============================] - 6s 90ms/step - loss: 0.0959 - accuracy: 0.9766 - val_loss: 0.7047 - val_accuracy: 0.8467\n",
      "Epoch 20/50\n",
      "70/70 [==============================] - 6s 87ms/step - loss: 0.0889 - accuracy: 0.9773 - val_loss: 0.7267 - val_accuracy: 0.8388\n",
      "Epoch 21/50\n",
      "70/70 [==============================] - 6s 87ms/step - loss: 0.0841 - accuracy: 0.9787 - val_loss: 0.7612 - val_accuracy: 0.8247\n",
      "Epoch 22/50\n",
      "70/70 [==============================] - 6s 87ms/step - loss: 0.0806 - accuracy: 0.9791 - val_loss: 0.8005 - val_accuracy: 0.8283\n",
      "Epoch 23/50\n",
      "70/70 [==============================] - 6s 87ms/step - loss: 0.0718 - accuracy: 0.9819 - val_loss: 0.7371 - val_accuracy: 0.8408\n",
      "Epoch 24/50\n",
      "70/70 [==============================] - 6s 85ms/step - loss: 0.0659 - accuracy: 0.9839 - val_loss: 0.7377 - val_accuracy: 0.8429\n",
      "Epoch 25/50\n",
      "70/70 [==============================] - 6s 85ms/step - loss: 0.0602 - accuracy: 0.9854 - val_loss: 0.8187 - val_accuracy: 0.8261\n",
      "Epoch 26/50\n",
      "70/70 [==============================] - 6s 85ms/step - loss: 0.0574 - accuracy: 0.9858 - val_loss: 0.8344 - val_accuracy: 0.8410\n",
      "Epoch 27/50\n",
      "70/70 [==============================] - 6s 85ms/step - loss: 0.0517 - accuracy: 0.9870 - val_loss: 0.7153 - val_accuracy: 0.8417\n",
      "Epoch 28/50\n",
      "70/70 [==============================] - 6s 85ms/step - loss: 0.0543 - accuracy: 0.9864 - val_loss: 0.8456 - val_accuracy: 0.8363\n",
      "Epoch 29/50\n",
      "70/70 [==============================] - 6s 84ms/step - loss: 0.0461 - accuracy: 0.9893 - val_loss: 0.8719 - val_accuracy: 0.8397\n",
      "Epoch 30/50\n",
      "70/70 [==============================] - 6s 88ms/step - loss: 0.0415 - accuracy: 0.9899 - val_loss: 0.8407 - val_accuracy: 0.8431\n",
      "Epoch 31/50\n",
      "70/70 [==============================] - 6s 85ms/step - loss: 0.0393 - accuracy: 0.9898 - val_loss: 0.8667 - val_accuracy: 0.8426\n",
      "Epoch 32/50\n",
      "70/70 [==============================] - 6s 85ms/step - loss: 0.0365 - accuracy: 0.9915 - val_loss: 0.8370 - val_accuracy: 0.8420\n",
      "Epoch 33/50\n",
      "70/70 [==============================] - 6s 85ms/step - loss: 0.0354 - accuracy: 0.9908 - val_loss: 0.9277 - val_accuracy: 0.8315\n",
      "Epoch 34/50\n",
      "70/70 [==============================] - 6s 85ms/step - loss: 0.0365 - accuracy: 0.9909 - val_loss: 0.9222 - val_accuracy: 0.8420\n",
      "Epoch 35/50\n",
      "70/70 [==============================] - 7s 94ms/step - loss: 0.0332 - accuracy: 0.9918 - val_loss: 0.9194 - val_accuracy: 0.8370\n",
      "Epoch 36/50\n",
      "70/70 [==============================] - 7s 106ms/step - loss: 0.0339 - accuracy: 0.9906 - val_loss: 0.9049 - val_accuracy: 0.8451\n",
      "Epoch 37/50\n",
      "70/70 [==============================] - 7s 96ms/step - loss: 0.0315 - accuracy: 0.9915 - val_loss: 0.9206 - val_accuracy: 0.8508\n",
      "Epoch 38/50\n",
      "70/70 [==============================] - 7s 93ms/step - loss: 0.0241 - accuracy: 0.9942 - val_loss: 1.0021 - val_accuracy: 0.8438\n",
      "Epoch 39/50\n",
      "70/70 [==============================] - 6s 84ms/step - loss: 0.0258 - accuracy: 0.9931 - val_loss: 1.0064 - val_accuracy: 0.8306\n",
      "Epoch 40/50\n",
      "70/70 [==============================] - 6s 82ms/step - loss: 0.0254 - accuracy: 0.9931 - val_loss: 0.9812 - val_accuracy: 0.8376\n",
      "Epoch 41/50\n",
      "70/70 [==============================] - 6s 83ms/step - loss: 0.0230 - accuracy: 0.9942 - val_loss: 0.9507 - val_accuracy: 0.8420\n",
      "Epoch 42/50\n",
      "70/70 [==============================] - 6s 84ms/step - loss: 0.0359 - accuracy: 0.9897 - val_loss: 0.9645 - val_accuracy: 0.8442\n",
      "Epoch 43/50\n",
      "70/70 [==============================] - 6s 84ms/step - loss: 0.0256 - accuracy: 0.9929 - val_loss: 0.9214 - val_accuracy: 0.8546\n",
      "Epoch 44/50\n",
      "70/70 [==============================] - 6s 84ms/step - loss: 0.0222 - accuracy: 0.9945 - val_loss: 0.9872 - val_accuracy: 0.8531\n",
      "Epoch 45/50\n",
      "70/70 [==============================] - 6s 82ms/step - loss: 0.0168 - accuracy: 0.9956 - val_loss: 0.9441 - val_accuracy: 0.8585\n",
      "Epoch 46/50\n",
      "70/70 [==============================] - 6s 92ms/step - loss: 0.0146 - accuracy: 0.9965 - val_loss: 1.0915 - val_accuracy: 0.8388\n",
      "Epoch 47/50\n",
      "70/70 [==============================] - 6s 89ms/step - loss: 0.0148 - accuracy: 0.9965 - val_loss: 1.0199 - val_accuracy: 0.8546\n",
      "Epoch 48/50\n",
      "70/70 [==============================] - 6s 85ms/step - loss: 0.0191 - accuracy: 0.9942 - val_loss: 1.0738 - val_accuracy: 0.8354\n",
      "Epoch 49/50\n",
      "70/70 [==============================] - 6s 87ms/step - loss: 0.0225 - accuracy: 0.9931 - val_loss: 1.1826 - val_accuracy: 0.8227\n",
      "Epoch 50/50\n",
      "70/70 [==============================] - 6s 82ms/step - loss: 0.0383 - accuracy: 0.9878 - val_loss: 1.0342 - val_accuracy: 0.8540\n"
     ]
    }
   ],
   "source": [
    "history = cnn_model.fit(X_train_gray_norm,\n",
    "                        y_train,\n",
    "                        batch_size=500,\n",
    "                        epochs=50,\n",
    "                        verbose=1,\n",
    "                        validation_data = (X_validation_gray_norm,y_valid))"
   ]
  },
  {
   "cell_type": "code",
   "execution_count": null,
   "id": "d195e8d4",
   "metadata": {},
   "outputs": [],
   "source": []
  },
  {
   "cell_type": "markdown",
   "id": "a0111e0c",
   "metadata": {},
   "source": [
    "## Model Evaluation"
   ]
  },
  {
   "cell_type": "code",
   "execution_count": 27,
   "id": "e4ed1c25",
   "metadata": {},
   "outputs": [
    {
     "name": "stdout",
     "output_type": "stream",
     "text": [
      "Test Accuracy : 0.8555\n"
     ]
    }
   ],
   "source": [
    "score = cnn_model.evaluate(X_test_gray_norm, y_test,verbose=0)\n",
    "print('Test Accuracy : {:.4f}'.format(score[1]))"
   ]
  },
  {
   "cell_type": "code",
   "execution_count": 28,
   "id": "173e6d0e",
   "metadata": {},
   "outputs": [
    {
     "data": {
      "text/plain": [
       "dict_keys(['loss', 'accuracy', 'val_loss', 'val_accuracy'])"
      ]
     },
     "execution_count": 28,
     "metadata": {},
     "output_type": "execute_result"
    }
   ],
   "source": [
    "history.history.keys()"
   ]
  },
  {
   "cell_type": "code",
   "execution_count": 29,
   "id": "3558dbaf",
   "metadata": {},
   "outputs": [
    {
     "data": {
      "text/plain": [
       "<matplotlib.legend.Legend at 0x25092120c10>"
      ]
     },
     "execution_count": 29,
     "metadata": {},
     "output_type": "execute_result"
    },
    {
     "data": {
      "image/png": "[encoded data removed]",
      "text/plain": [
       "<Figure size 432x288 with 1 Axes>"
      ]
     },
     "metadata": {
      "needs_background": "light"
     },
     "output_type": "display_data"
    }
   ],
   "source": [
    "accuracy = history.history['accuracy']\n",
    "val_accuracy = history.history['val_accuracy']\n",
    "loss = history.history['loss']\n",
    "val_loss = history.history['val_loss']\n",
    "\n",
    "epochs = range(len(accuracy))\n",
    "\n",
    "plt.plot(epochs, accuracy, 'bo', label='Training Accuracy')\n",
    "plt.plot(epochs, val_accuracy, 'b', label='Validation Accuracy')\n",
    "plt.title('Training and Validation accuracy')\n",
    "plt.legend()\n"
   ]
  },
  {
   "cell_type": "code",
   "execution_count": 30,
   "id": "ebf802e0",
   "metadata": {},
   "outputs": [
    {
     "data": {
      "image/png": "[encoded data removed]",
      "text/plain": [
       "<Figure size 432x288 with 1 Axes>"
      ]
     },
     "metadata": {
      "needs_background": "light"
     },
     "output_type": "display_data"
    }
   ],
   "source": [
    "plt.plot(epochs, loss, 'ro', label='Training Loss')\n",
    "plt.plot(epochs, val_loss, 'r', label='Validation Loss')\n",
    "plt.title('Training and validation loss')\n",
    "plt.legend()\n",
    "plt.show()"
   ]
  },
  {
   "cell_type": "code",
   "execution_count": null,
   "id": "aea3c923",
   "metadata": {},
   "outputs": [],
   "source": []
  },
  {
   "cell_type": "markdown",
   "id": "9898a3dd",
   "metadata": {},
   "source": [
    "=========="
   ]
  },
  {
   "cell_type": "markdown",
   "id": "c35aedc1",
   "metadata": {},
   "source": [
    "# THANK YOU!"
   ]
  }
 ],
 "metadata": {
  "kernelspec": {
   "display_name": "Python 3 (ipykernel)",
   "language": "python",
   "name": "python3"
  },
  "language_info": {
   "codemirror_mode": {
    "name": "ipython",
    "version": 3
   },
   "file_extension": ".py",
   "mimetype": "text/x-python",
   "name": "python",
   "nbconvert_exporter": "python",
   "pygments_lexer": "ipython3",
   "version": "3.9.13"
  }
 },
 "nbformat": 4,
 "nbformat_minor": 5
}
